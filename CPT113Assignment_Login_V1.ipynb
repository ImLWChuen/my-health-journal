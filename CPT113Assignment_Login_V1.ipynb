{
  "nbformat": 4,
  "nbformat_minor": 0,
  "metadata": {
    "colab": {
      "provenance": []
    },
    "kernelspec": {
      "name": "python3",
      "display_name": "Python 3"
    },
    "language_info": {
      "name": "python"
    }
  },
  "cells": [
    {
      "cell_type": "markdown",
      "source": [
        "# Hackathon Group 36\n",
        "\n",
        "# Members:\n",
        "> Lim Jie Shen \\\\\n",
        "> Loh Wei Chuen \\\\\n",
        "> Lum Yeen Thoong \\\\\n",
        "\n",
        "\n",
        "---\n",
        "\n",
        "\n",
        "#Project Title: My Health Journal\n",
        "\n",
        "##Project Specification:\n"
      ],
      "metadata": {
        "id": "O23vl_RJLlbj"
      }
    },
    {
      "cell_type": "markdown",
      "source": [
        "##Problem Analysis"
      ],
      "metadata": {
        "id": "8ouPHgh8MrSt"
      }
    },
    {
      "cell_type": "markdown",
      "source": [
        "Describe the requirements of your program and relate it to how you solve the given problem."
      ],
      "metadata": {
        "id": "CwaIi8lLM2GW"
      }
    },
    {
      "cell_type": "markdown",
      "source": [
        "# Programming Design & Solution"
      ],
      "metadata": {
        "id": "5defr4gJM4U3"
      }
    },
    {
      "cell_type": "markdown",
      "source": [
        "#UML Diagram and relationship"
      ],
      "metadata": {
        "id": "s_kCZWJcM8ND"
      }
    },
    {
      "cell_type": "markdown",
      "source": [
        "username password realname"
      ],
      "metadata": {
        "id": "3PTwLMpqrVIV"
      }
    },
    {
      "cell_type": "markdown",
      "source": [
        "##Input files needed by the program:"
      ],
      "metadata": {
        "id": "19TtYBD3NLld"
      }
    },
    {
      "cell_type": "markdown",
      "source": [
        "This is the input files needed.\n",
        "\n",
        "userInfo.txt is ordered as followed: Name >> Age >> Gender >> Weight(kg) >> Height(m) >> User's_Goal"
      ],
      "metadata": {
        "id": "UcrQsAUKNSpH"
      }
    },
    {
      "cell_type": "code",
      "source": [
        "%%writefile userInfo.txt\n",
        "Alice 25 F 65.0 1.70 lose\n",
        "Bob 30 M 78.0 1.80 maintain\n",
        "Charlie 28 M 85.0 1.75 gain\n",
        "Diana 22 F 55.0 1.60 lose\n",
        "Ethan 35 M 90.0 1.82 maintain\n",
        "Fiona 29 F 60.0 1.65 gain\n",
        "George 31 M 88.0 1.78 lose\n",
        "Hannah 26 F 58.0 1.68 gain\n",
        "Ian 33 M 83.0 1.76 maintain\n",
        "Jenna 27 F 62.0 1.64 lose"
      ],
      "metadata": {
        "id": "iKmt8xKxOA_6"
      },
      "execution_count": null,
      "outputs": []
    },
    {
      "cell_type": "markdown",
      "source": [
        "workoutPlan.txt is ordered as followed: Activity >> IntensityLevel (1–4) >> CaloriesBurnPerMinute"
      ],
      "metadata": {
        "id": "1TpeoW8tNY5j"
      }
    },
    {
      "cell_type": "code",
      "source": [
        "%%writefile workout_plans.txt\n",
        "Running,3,12\n",
        "Swimming,2,10\n",
        "Cycling,3,11\n",
        "Yoga,1,4\n",
        "HIIT,4,14\n",
        "Walking,1,5\n",
        "Boxing,3,13\n",
        "Jump rope,2,10\n",
        "Pilates,2,6\n",
        "Strength training,3,9"
      ],
      "metadata": {
        "id": "JrG0_DtXNcT4"
      },
      "execution_count": null,
      "outputs": []
    },
    {
      "cell_type": "code",
      "source": [
        "%%writefile diet_plans.txt\n",
        "Breakfast,Oatmeal with banana,300\n",
        "Lunch,Grilled chicken salad,500\n",
        "Dinner,Salmon and veggies,450\n",
        "Snack,Yogurt with nuts,200\n",
        "Breakfast,Scrambled eggs and toast,350\n",
        "Lunch,Tuna sandwich,450\n",
        "Dinner,Spaghetti with meat sauce,600\n",
        "Snack,Fruit smoothie,250"
      ],
      "metadata": {
        "id": "ptRKKE-2Nfsr"
      },
      "execution_count": null,
      "outputs": []
    },
    {
      "cell_type": "code",
      "source": [
        "%%writefile database.txt\n",
        "Alice123 Password123 Alice\n",
        "Bob456 Password456 Bob\n",
        "Charlie789 Password789 Charlie\n",
        "Diana101 Password101 Diana\n",
        "Ethan202 Password202 Ethan\n",
        "Fiona303 Password303 Fiona\n",
        "George404 Password404 George\n",
        "Hannah505 Password505 Hannah\n",
        "Ian606 Password606 Ian\n",
        "Jenna707 Password707 Jenna"
      ],
      "metadata": {
        "id": "Os-CcqUxOW9G",
        "colab": {
          "base_uri": "https://localhost:8080/"
        },
        "outputId": "4ff249c9-a32a-4da4-8e91-ed1d7f25068d"
      },
      "execution_count": null,
      "outputs": [
        {
          "output_type": "stream",
          "name": "stdout",
          "text": [
            "Overwriting database.txt\n"
          ]
        }
      ]
    },
    {
      "cell_type": "markdown",
      "source": [
        "#C++ Code"
      ],
      "metadata": {
        "id": "qEFfH9VwNku1"
      }
    },
    {
      "cell_type": "code",
      "source": [
        "%%writefile Person.h\n",
        "#ifndef PERSON_H\n",
        "#define PERSON_H\n",
        "\n",
        "#include <string>\n",
        "using namespace std;\n",
        "\n",
        "class Person {\n",
        "private:\n",
        "  string username_;\n",
        "  string password_;\n",
        "  string realname_;\n",
        "\n",
        "public:\n",
        "\n",
        "  // constructors\n",
        "  Person();\n",
        "  Person(string username, string password, string realname); // overloaded constructor\n",
        "\n",
        "  // getters\n",
        "  string getUsername() const;\n",
        "  string getPassword() const;\n",
        "  string getRealname() const;\n",
        "\n",
        "  // setters\n",
        "  void setUsername(string username);\n",
        "  void setPassword(string password);\n",
        "  void setRealname(string realname);\n",
        "\n",
        "};\n",
        "\n",
        "#endif // PERSON_H"
      ],
      "metadata": {
        "id": "bf_2ieFL-LAW"
      },
      "execution_count": null,
      "outputs": []
    },
    {
      "cell_type": "code",
      "source": [
        "%%writefile Person.cpp\n",
        "\n",
        "#include \"Person.h\"\n",
        "using namespace std;\n",
        "\n",
        "// Default Constructor\n",
        "Person::Person() {\n",
        "  username_ = \"\";\n",
        "  password_ = \"\";\n",
        "  realname_ = \"\";\n",
        "}\n",
        "\n",
        "// Overloaded Constructor\n",
        "Person::Person(string username, string password, string realname) {\n",
        "  username_ = username;\n",
        "  password_ = password;\n",
        "  realname_ = realname;\n",
        "}\n",
        "\n",
        "// Getters\n",
        "string Person::getUsername() const {\n",
        "  return username_;\n",
        "}\n",
        "\n",
        "string Person::getPassword() const {\n",
        "  return password_;\n",
        "}\n",
        "\n",
        "string Person::getRealname() const {\n",
        "  return realname_;\n",
        "}\n",
        "\n",
        "// Setters\n",
        "void Person::setUsername(string username) {\n",
        "  username_ = username;\n",
        "}\n",
        "\n",
        "void Person::setPassword(string password) {\n",
        "  password_ = password;\n",
        "}\n",
        "\n",
        "void Person::setRealname(string realname) {\n",
        "  realname_ = realname;\n",
        "}"
      ],
      "metadata": {
        "id": "g2uZ-RGBRwre"
      },
      "execution_count": null,
      "outputs": []
    },
    {
      "cell_type": "code",
      "source": [
        "%%writefile Database.h\n",
        "#ifndef DATABASE_H\n",
        "#define DATABASE_H\n",
        "\n",
        "#include \"Person.h\"\n",
        "#include <string>\n",
        "using namespace std;\n",
        "\n",
        "class Database {\n",
        "private:\n",
        "  string filename_;\n",
        "  int userCount_;\n",
        "  Person person_[MAX_USERS]; // array of User objects\n",
        "\n",
        "public:\n",
        "  static const int MAX_USERS = 100; // maximum number of users\n",
        "\n",
        "  // Constructor\n",
        "  Database(string filename, int userCount); // overloaded constructor\n",
        "\n",
        "  // loading / saving file to and from memeory\n",
        "  void loadFromFile();\n",
        "  void saveToFile();\n",
        "\n",
        "  // login and registration functions\n",
        "  bool login(string username, string password) const;\n",
        "  bool registerUser(string username, string password, string realname);\n",
        "\n",
        "};"
      ],
      "metadata": {
        "id": "biB5uAcRTgeW"
      },
      "execution_count": null,
      "outputs": []
    },
    {
      "cell_type": "code",
      "source": [
        "%%writefile Database.cpp\n",
        "\n",
        "#include \"Database.h\"\n",
        "#include <fstream>\n",
        "#include <iostream>\n",
        "\n",
        "using namespace std;\n",
        "\n",
        "// Constructor\n",
        "Database::Database(string filename) {\n",
        "  filename_ = filename;\n",
        "  userCount_ = 0;\n",
        "}\n",
        "\n",
        "// Load data from file to memory\n",
        "void Database::loadFromFile() {\n",
        "  ifstream inFile;\n",
        "  inFile.open(filename_);\n",
        "\n",
        "  if (!inFile.is_open()) {\n",
        "    cout << \"Unable to open file: \" << filename_ << endl;\n",
        "    return;\n",
        "  }\n",
        "\n",
        "  string username, password, realname;\n",
        "  while ((inFile >> username >> password >> realname) && userCount_ < MAX_USERS) {\n",
        "    person_[userCount_] = Person(username, password, realname);\n",
        "    userCount_++;\n",
        "  }\n",
        "}\n",
        "\n",
        "void Database::saveToFile() {\n",
        "  ofstream outFile;\n",
        "  outFile.open(filename_);\n",
        "\n",
        "  if (!outFile.is_open()) {\n",
        "    cout << \"Unable to open file: \" << filename_ << endl;\n",
        "    return;\n",
        "  }\n",
        "\n",
        "  for (int i = 0; i < userCount_; i++) {\n",
        "    outFile << person_[i].getUsername() << \" \" << person_[i].getPassword() << \" \" << person_[i].getRealname() << endl;\n",
        "  }\n",
        "}\n",
        "\n",
        "bool Database::login(string username, string password) const {\n",
        "  for (int i = 0; i < userCount_; i++) {\n",
        "    if (person_[i].getUsername() == username && person_[i].getPassword() == password) {\n",
        "      cout << \"<Login successful!> Hello, \" << person_[i].getRealname()  << endl;\n",
        "      return true;\n",
        "    }\n",
        "  }\n",
        "  cout << \"<Login failed!> Invalid username or password.\" << endl;\n",
        "  return false;\n",
        "}\n",
        "\n",
        "bool Database::registerUser(string username, string password, string realname) {\n",
        "  if (userCount_ >= MAX_USERS) {\n",
        "    cout << \"<Registration failed!> Maximum number of users reached.\" << endl;\n",
        "    return false;\n",
        "  }\n",
        "\n",
        "  for (int i = 0; i < userCount_; i++) {\n",
        "    if (person_[i].getUsername() == username) {\n",
        "      cout << \"<Registration failed!> Username already exists.\" << endl;\n",
        "      return false;\n",
        "    }\n",
        "  }\n",
        "\n",
        "  person_[userCount_] = Person(username, password, realname);\n",
        "  userCount_++;\n",
        "  cout << \"<Registration successful!> Welcome, \" << realname << endl;\n",
        "  return true;\n",
        "}"
      ],
      "metadata": {
        "id": "eBKJAfvuW2dh"
      },
      "execution_count": null,
      "outputs": []
    },
    {
      "cell_type": "code",
      "source": [
        "%%writefile BodyMetric.h"
      ],
      "metadata": {
        "id": "7ai56GSLNoGG"
      },
      "execution_count": null,
      "outputs": []
    },
    {
      "cell_type": "code",
      "source": [
        "%%writefile main.cpp\n",
        "\n",
        "#include \"Database.h\"\n",
        "#include <iostream>\n",
        "\n",
        "using namespace std;\n",
        "\n",
        "int main(){\n",
        "\n",
        "  const string filename = \"database.txt\";\n",
        "  Database db(filename);\n",
        "  db.loadFromFile();\n",
        "\n",
        "  int choice;\n",
        "  do {\n",
        "    cout << \"****************************************\" << endl;\n",
        "    cout << \"***** Welcome to My Health Journal *****\" << endl;\n",
        "    cout << \"Menu: \" << endl;\n",
        "    cout << \"[1] Login\" << endl;\n",
        "    cout << \"[2] Register\" << endl;\n",
        "    cout << \"[3] Exit\" << endl;\n",
        "    cout << \"Enter your choice: \";\n",
        "    cin >> choice;\n",
        "    cout << endl;\n",
        "\n",
        "    switch (choice) {\n",
        "      case 1:\n",
        "        string username, password;\n",
        "        cout << \"Enter username: \";\n",
        "        cin >> username;\n",
        "        cout << \"Enter password: \";\n",
        "        cin >> password;\n",
        "        db.login(username, password);\n",
        "        break;\n",
        "      case 2:\n",
        "        registr();\n",
        "        break;\n",
        "      case 3:\n",
        "        cout << \"Thanks for visiting!\" << endl;\n",
        "        break;\n",
        "      default:\n",
        "        cout << \"Invalid choice\" << endl;\n",
        "    }\n",
        "  } while (choice != 3);\n",
        "\n",
        "  cout << \"Part 2 \" << endl;\n",
        "\n",
        "  return 0;\n",
        "}\n",
        "\n",
        "void login(){\n",
        "  ifstream inFile;\n",
        "  inFile.open(\"database.txt\");\n",
        "\n",
        "\n",
        "\n",
        "}\n",
        "\n",
        "void registr(){\n",
        "\n",
        "}"
      ],
      "metadata": {
        "id": "zZOde14KNqAk",
        "colab": {
          "base_uri": "https://localhost:8080/"
        },
        "outputId": "207244ac-26a9-457b-f5be-c20fd4867b93"
      },
      "execution_count": null,
      "outputs": [
        {
          "output_type": "stream",
          "name": "stdout",
          "text": [
            "Overwriting main.cpp\n"
          ]
        }
      ]
    },
    {
      "cell_type": "code",
      "source": [
        "%%shell\n",
        "g++ main.cpp -o HealthJournal.elf\n",
        "./HealthJournal.elf"
      ],
      "metadata": {
        "colab": {
          "base_uri": "https://localhost:8080/",
          "height": 859
        },
        "id": "LZMLmRaoLE36",
        "outputId": "6bf09e82-46d7-4c36-e1d9-e806a0dac145"
      },
      "execution_count": null,
      "outputs": [
        {
          "output_type": "stream",
          "name": "stdout",
          "text": [
            "****************************************\n",
            "***** Welcome to My Health Journal *****\n",
            "Menu: \n",
            "[1] Login\n",
            "[2] Register\n",
            "[3] Exit\n",
            "Enter your choice: 1\n",
            "\n",
            "Please enter the following details: \n",
            "Enter username: Alice123\n",
            "Enter password: Password123\n",
            "Login successful! Hello, Alice\n",
            "****************************************\n",
            "***** Welcome to My Health Journal *****\n",
            "Menu: \n",
            "[1] Login\n",
            "[2] Register\n",
            "[3] Exit\n",
            "Enter your choice: 1\n",
            "\n",
            "Please enter the following details: \n",
            "Enter username: Bob456\n",
            "Enter password: Password456\n",
            "Login successful! Hello, Alice\n",
            "****************************************\n",
            "***** Welcome to My Health Journal *****\n",
            "Menu: \n",
            "[1] Login\n",
            "[2] Register\n",
            "[3] Exit\n",
            "Enter your choice: "
          ]
        },
        {
          "output_type": "error",
          "ename": "CalledProcessError",
          "evalue": "Command 'g++ main.cpp -o HealthJournal.elf\n./HealthJournal.elf\n' died with <Signals.SIGINT: 2>.",
          "traceback": [
            "\u001b[0;31m---------------------------------------------------------------------------\u001b[0m",
            "\u001b[0;31mCalledProcessError\u001b[0m                        Traceback (most recent call last)",
            "\u001b[0;32m<ipython-input-12-0d275e438a73>\u001b[0m in \u001b[0;36m<cell line: 0>\u001b[0;34m()\u001b[0m\n\u001b[0;32m----> 1\u001b[0;31m \u001b[0mget_ipython\u001b[0m\u001b[0;34m(\u001b[0m\u001b[0;34m)\u001b[0m\u001b[0;34m.\u001b[0m\u001b[0mrun_cell_magic\u001b[0m\u001b[0;34m(\u001b[0m\u001b[0;34m'shell'\u001b[0m\u001b[0;34m,\u001b[0m \u001b[0;34m''\u001b[0m\u001b[0;34m,\u001b[0m \u001b[0;34m'g++ main.cpp -o HealthJournal.elf\\n./HealthJournal.elf\\n'\u001b[0m\u001b[0;34m)\u001b[0m\u001b[0;34m\u001b[0m\u001b[0;34m\u001b[0m\u001b[0m\n\u001b[0m",
            "\u001b[0;32m/usr/local/lib/python3.11/dist-packages/google/colab/_shell.py\u001b[0m in \u001b[0;36mrun_cell_magic\u001b[0;34m(self, magic_name, line, cell)\u001b[0m\n\u001b[1;32m    356\u001b[0m     \u001b[0;32mif\u001b[0m \u001b[0mline\u001b[0m \u001b[0;32mand\u001b[0m \u001b[0;32mnot\u001b[0m \u001b[0mcell\u001b[0m\u001b[0;34m:\u001b[0m\u001b[0;34m\u001b[0m\u001b[0;34m\u001b[0m\u001b[0m\n\u001b[1;32m    357\u001b[0m       \u001b[0mcell\u001b[0m \u001b[0;34m=\u001b[0m \u001b[0;34m' '\u001b[0m\u001b[0;34m\u001b[0m\u001b[0;34m\u001b[0m\u001b[0m\n\u001b[0;32m--> 358\u001b[0;31m     \u001b[0;32mreturn\u001b[0m \u001b[0msuper\u001b[0m\u001b[0;34m(\u001b[0m\u001b[0;34m)\u001b[0m\u001b[0;34m.\u001b[0m\u001b[0mrun_cell_magic\u001b[0m\u001b[0;34m(\u001b[0m\u001b[0mmagic_name\u001b[0m\u001b[0;34m,\u001b[0m \u001b[0mline\u001b[0m\u001b[0;34m,\u001b[0m \u001b[0mcell\u001b[0m\u001b[0;34m)\u001b[0m\u001b[0;34m\u001b[0m\u001b[0;34m\u001b[0m\u001b[0m\n\u001b[0m\u001b[1;32m    359\u001b[0m \u001b[0;34m\u001b[0m\u001b[0m\n\u001b[1;32m    360\u001b[0m \u001b[0;34m\u001b[0m\u001b[0m\n",
            "\u001b[0;32m/usr/local/lib/python3.11/dist-packages/IPython/core/interactiveshell.py\u001b[0m in \u001b[0;36mrun_cell_magic\u001b[0;34m(self, magic_name, line, cell)\u001b[0m\n\u001b[1;32m   2471\u001b[0m             \u001b[0;32mwith\u001b[0m \u001b[0mself\u001b[0m\u001b[0;34m.\u001b[0m\u001b[0mbuiltin_trap\u001b[0m\u001b[0;34m:\u001b[0m\u001b[0;34m\u001b[0m\u001b[0;34m\u001b[0m\u001b[0m\n\u001b[1;32m   2472\u001b[0m                 \u001b[0margs\u001b[0m \u001b[0;34m=\u001b[0m \u001b[0;34m(\u001b[0m\u001b[0mmagic_arg_s\u001b[0m\u001b[0;34m,\u001b[0m \u001b[0mcell\u001b[0m\u001b[0;34m)\u001b[0m\u001b[0;34m\u001b[0m\u001b[0;34m\u001b[0m\u001b[0m\n\u001b[0;32m-> 2473\u001b[0;31m                 \u001b[0mresult\u001b[0m \u001b[0;34m=\u001b[0m \u001b[0mfn\u001b[0m\u001b[0;34m(\u001b[0m\u001b[0;34m*\u001b[0m\u001b[0margs\u001b[0m\u001b[0;34m,\u001b[0m \u001b[0;34m**\u001b[0m\u001b[0mkwargs\u001b[0m\u001b[0;34m)\u001b[0m\u001b[0;34m\u001b[0m\u001b[0;34m\u001b[0m\u001b[0m\n\u001b[0m\u001b[1;32m   2474\u001b[0m             \u001b[0;32mreturn\u001b[0m \u001b[0mresult\u001b[0m\u001b[0;34m\u001b[0m\u001b[0;34m\u001b[0m\u001b[0m\n\u001b[1;32m   2475\u001b[0m \u001b[0;34m\u001b[0m\u001b[0m\n",
            "\u001b[0;32m/usr/local/lib/python3.11/dist-packages/google/colab/_system_commands.py\u001b[0m in \u001b[0;36m_shell_cell_magic\u001b[0;34m(args, cmd)\u001b[0m\n\u001b[1;32m    110\u001b[0m   \u001b[0mresult\u001b[0m \u001b[0;34m=\u001b[0m \u001b[0m_run_command\u001b[0m\u001b[0;34m(\u001b[0m\u001b[0mcmd\u001b[0m\u001b[0;34m,\u001b[0m \u001b[0mclear_streamed_output\u001b[0m\u001b[0;34m=\u001b[0m\u001b[0;32mFalse\u001b[0m\u001b[0;34m)\u001b[0m\u001b[0;34m\u001b[0m\u001b[0;34m\u001b[0m\u001b[0m\n\u001b[1;32m    111\u001b[0m   \u001b[0;32mif\u001b[0m \u001b[0;32mnot\u001b[0m \u001b[0mparsed_args\u001b[0m\u001b[0;34m.\u001b[0m\u001b[0mignore_errors\u001b[0m\u001b[0;34m:\u001b[0m\u001b[0;34m\u001b[0m\u001b[0;34m\u001b[0m\u001b[0m\n\u001b[0;32m--> 112\u001b[0;31m     \u001b[0mresult\u001b[0m\u001b[0;34m.\u001b[0m\u001b[0mcheck_returncode\u001b[0m\u001b[0;34m(\u001b[0m\u001b[0;34m)\u001b[0m\u001b[0;34m\u001b[0m\u001b[0;34m\u001b[0m\u001b[0m\n\u001b[0m\u001b[1;32m    113\u001b[0m   \u001b[0;32mreturn\u001b[0m \u001b[0mresult\u001b[0m\u001b[0;34m\u001b[0m\u001b[0;34m\u001b[0m\u001b[0m\n\u001b[1;32m    114\u001b[0m \u001b[0;34m\u001b[0m\u001b[0m\n",
            "\u001b[0;32m/usr/local/lib/python3.11/dist-packages/google/colab/_system_commands.py\u001b[0m in \u001b[0;36mcheck_returncode\u001b[0;34m(self)\u001b[0m\n\u001b[1;32m    135\u001b[0m   \u001b[0;32mdef\u001b[0m \u001b[0mcheck_returncode\u001b[0m\u001b[0;34m(\u001b[0m\u001b[0mself\u001b[0m\u001b[0;34m)\u001b[0m\u001b[0;34m:\u001b[0m\u001b[0;34m\u001b[0m\u001b[0;34m\u001b[0m\u001b[0m\n\u001b[1;32m    136\u001b[0m     \u001b[0;32mif\u001b[0m \u001b[0mself\u001b[0m\u001b[0;34m.\u001b[0m\u001b[0mreturncode\u001b[0m\u001b[0;34m:\u001b[0m\u001b[0;34m\u001b[0m\u001b[0;34m\u001b[0m\u001b[0m\n\u001b[0;32m--> 137\u001b[0;31m       raise subprocess.CalledProcessError(\n\u001b[0m\u001b[1;32m    138\u001b[0m           \u001b[0mreturncode\u001b[0m\u001b[0;34m=\u001b[0m\u001b[0mself\u001b[0m\u001b[0;34m.\u001b[0m\u001b[0mreturncode\u001b[0m\u001b[0;34m,\u001b[0m \u001b[0mcmd\u001b[0m\u001b[0;34m=\u001b[0m\u001b[0mself\u001b[0m\u001b[0;34m.\u001b[0m\u001b[0margs\u001b[0m\u001b[0;34m,\u001b[0m \u001b[0moutput\u001b[0m\u001b[0;34m=\u001b[0m\u001b[0mself\u001b[0m\u001b[0;34m.\u001b[0m\u001b[0moutput\u001b[0m\u001b[0;34m\u001b[0m\u001b[0;34m\u001b[0m\u001b[0m\n\u001b[1;32m    139\u001b[0m       )\n",
            "\u001b[0;31mCalledProcessError\u001b[0m: Command 'g++ main.cpp -o HealthJournal.elf\n./HealthJournal.elf\n' died with <Signals.SIGINT: 2>."
          ]
        }
      ]
    },
    {
      "cell_type": "markdown",
      "source": [
        "##Example Output 1:\n",
        "Scenario 1: Checking a specific user information, followed by recording new info and recalculate suggested work out plan."
      ],
      "metadata": {
        "id": "q9sewWJNNuu6"
      }
    },
    {
      "cell_type": "code",
      "source": [
        "%%shell\n",
        "g++ Person.h BodyMetric.h main.cpp -o HealthJournal.elf\n",
        "./HealthJournal.elf"
      ],
      "metadata": {
        "id": "GUVCuUPfNwv9"
      },
      "execution_count": null,
      "outputs": []
    }
  ]
}
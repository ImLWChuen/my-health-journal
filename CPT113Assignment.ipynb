{
  "nbformat": 4,
  "nbformat_minor": 0,
  "metadata": {
    "colab": {
      "provenance": []
    },
    "kernelspec": {
      "name": "python3",
      "display_name": "Python 3"
    },
    "language_info": {
      "name": "python"
    }
  },
  "cells": [
    {
      "cell_type": "markdown",
      "source": [
        "# Hackathon Group 36\n",
        "\n",
        "# Members:\n",
        "> Lim Jie Shen \\\\\n",
        "> Loh Wei Chuen \\\\\n",
        "> Lum Yeen Thoong \\\\\n",
        "\n",
        "\n",
        "---\n",
        "\n",
        "\n",
        "#Project Title: My Health Journal\n",
        "\n",
        "##Project Specification:\n"
      ],
      "metadata": {
        "id": "O23vl_RJLlbj"
      }
    },
    {
      "cell_type": "markdown",
      "source": [
        "##Problem Analysis"
      ],
      "metadata": {
        "id": "8ouPHgh8MrSt"
      }
    },
    {
      "cell_type": "markdown",
      "source": [
        "Describe the requirements of your program and relate it to how you solve the given problem."
      ],
      "metadata": {
        "id": "CwaIi8lLM2GW"
      }
    },
    {
      "cell_type": "markdown",
      "source": [
        "# Programming Design & Solution"
      ],
      "metadata": {
        "id": "5defr4gJM4U3"
      }
    },
    {
      "cell_type": "markdown",
      "source": [
        "#UML Diagram and relationship"
      ],
      "metadata": {
        "id": "s_kCZWJcM8ND"
      }
    },
    {
      "cell_type": "markdown",
      "source": [
        "##Input files needed by the program:"
      ],
      "metadata": {
        "id": "19TtYBD3NLld"
      }
    },
    {
      "cell_type": "markdown",
      "source": [
        "This is the input files needed.\n",
        "\n",
        "userInfo.txt is ordered as followed: Name >> Age >> Gender >> Weight(kg) >> Height(m) >> User's_Goal"
      ],
      "metadata": {
        "id": "UcrQsAUKNSpH"
      }
    },
    {
      "cell_type": "code",
      "source": [
        "%%writefile userInfo.txt\n",
        "Alice 25 F 65.0 1.70 lose\n",
        "Bob 30 M 78.0 1.80 maintain\n",
        "Charlie 28 M 85.0 1.75 gain\n",
        "Diana 22 F 55.0 1.60 lose\n",
        "Ethan 35 M 90.0 1.82 maintain\n",
        "Fiona 29 F 60.0 1.65 gain\n",
        "George 31 M 88.0 1.78 lose\n",
        "Hannah 26 F 58.0 1.68 gain\n",
        "Ian 33 M 83.0 1.76 maintain\n",
        "Jenna 27 F 62.0 1.64 lose"
      ],
      "metadata": {
        "id": "iKmt8xKxOA_6"
      },
      "execution_count": null,
      "outputs": []
    },
    {
      "cell_type": "markdown",
      "source": [
        "workoutPlan.txt is ordered as followed: Activity >> IntensityLevel (1–4) >> CaloriesBurnPerMinute"
      ],
      "metadata": {
        "id": "1TpeoW8tNY5j"
      }
    },
    {
      "cell_type": "code",
      "source": [
        "%%writefile workout_plans.txt\n",
        "Running,3,12\n",
        "Swimming,2,10\n",
        "Cycling,3,11\n",
        "Yoga,1,4\n",
        "HIIT,4,14\n",
        "Walking,1,5\n",
        "Boxing,3,13\n",
        "Jump rope,2,10\n",
        "Pilates,2,6\n",
        "Strength training,3,9"
      ],
      "metadata": {
        "id": "JrG0_DtXNcT4"
      },
      "execution_count": null,
      "outputs": []
    },
    {
      "cell_type": "code",
      "source": [
        "%%writefile diet_plans.txt\n",
        "Breakfast,Oatmeal with banana,300\n",
        "Lunch,Grilled chicken salad,500\n",
        "Dinner,Salmon and veggies,450\n",
        "Snack,Yogurt with nuts,200\n",
        "Breakfast,Scrambled eggs and toast,350\n",
        "Lunch,Tuna sandwich,450\n",
        "Dinner,Spaghetti with meat sauce,600\n",
        "Snack,Fruit smoothie,250"
      ],
      "metadata": {
        "id": "ptRKKE-2Nfsr"
      },
      "execution_count": null,
      "outputs": []
    },
    {
      "cell_type": "markdown",
      "source": [
        "#C++ Code"
      ],
      "metadata": {
        "id": "qEFfH9VwNku1"
      }
    },
    {
      "cell_type": "code",
      "source": [
        "%%writefile Person.h"
      ],
      "metadata": {
        "id": "EzjZdI0WNl1-"
      },
      "execution_count": null,
      "outputs": []
    },
    {
      "cell_type": "code",
      "source": [
        "%%writefile BodyMetric.h"
      ],
      "metadata": {
        "id": "7ai56GSLNoGG"
      },
      "execution_count": null,
      "outputs": []
    },
    {
      "cell_type": "code",
      "source": [
        "%%writefile main.cpp"
      ],
      "metadata": {
        "id": "zZOde14KNqAk"
      },
      "execution_count": null,
      "outputs": []
    },
    {
      "cell_type": "markdown",
      "source": [
        "##Example Output 1:\n",
        "Scenario 1: Checking a specific user information, followed by recording new info and recalculate suggested work out plan."
      ],
      "metadata": {
        "id": "q9sewWJNNuu6"
      }
    },
    {
      "cell_type": "code",
      "source": [
        "%%shell\n",
        "g++ Person.h BodyMetric.h main.cpp -o HealthJournal.elf\n",
        "./HealthJournal.elf"
      ],
      "metadata": {
        "id": "GUVCuUPfNwv9"
      },
      "execution_count": null,
      "outputs": []
    }
  ]
}
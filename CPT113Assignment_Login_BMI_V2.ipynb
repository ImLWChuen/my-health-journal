{
  "nbformat": 4,
  "nbformat_minor": 0,
  "metadata": {
    "colab": {
      "provenance": []
    },
    "kernelspec": {
      "name": "python3",
      "display_name": "Python 3"
    },
    "language_info": {
      "name": "python"
    }
  },
  "cells": [
    {
      "cell_type": "markdown",
      "source": [
        "# Hackathon Group 36\n",
        "\n",
        "# Members:\n",
        "> Lim Jie Shen \\\\\n",
        "> Loh Wei Chuen \\\\\n",
        "> Lum Yeen Thoong \\\\\n",
        "\n",
        "\n",
        "---\n",
        "\n",
        "\n",
        "#Project Title: My Health Journal\n",
        "\n",
        "##Project Specification:\n"
      ],
      "metadata": {
        "id": "O23vl_RJLlbj"
      }
    },
    {
      "cell_type": "markdown",
      "source": [
        "##Problem Analysis"
      ],
      "metadata": {
        "id": "8ouPHgh8MrSt"
      }
    },
    {
      "cell_type": "markdown",
      "source": [
        "Describe the requirements of your program and relate it to how you solve the given problem."
      ],
      "metadata": {
        "id": "CwaIi8lLM2GW"
      }
    },
    {
      "cell_type": "markdown",
      "source": [
        "# Programming Design & Solution"
      ],
      "metadata": {
        "id": "5defr4gJM4U3"
      }
    },
    {
      "cell_type": "markdown",
      "source": [
        "#UML Diagram and relationship"
      ],
      "metadata": {
        "id": "s_kCZWJcM8ND"
      }
    },
    {
      "cell_type": "markdown",
      "source": [
        "username password realname"
      ],
      "metadata": {
        "id": "3PTwLMpqrVIV"
      }
    },
    {
      "cell_type": "markdown",
      "source": [
        "##Input files needed by the program:"
      ],
      "metadata": {
        "id": "19TtYBD3NLld"
      }
    },
    {
      "cell_type": "markdown",
      "source": [
        "This is the input files needed.\n",
        "\n",
        "userInfo.txt is ordered as followed: Name >> Age >> Gender >> Weight(kg) >> Height(m) >> User's_Goal"
      ],
      "metadata": {
        "id": "UcrQsAUKNSpH"
      }
    },
    {
      "cell_type": "code",
      "source": [
        "%%writefile userInfo.txt\n",
        "Alice 25 F 65.0 1.70 lose\n",
        "Bob 30 M 78.0 1.80 maintain\n",
        "Charlie 28 M 85.0 1.75 gain\n",
        "Diana 22 F 55.0 1.60 lose\n",
        "Ethan 35 M 90.0 1.82 maintain\n",
        "Fiona 29 F 60.0 1.65 gain\n",
        "George 31 M 88.0 1.78 lose\n",
        "Hannah 26 F 58.0 1.68 gain\n",
        "Ian 33 M 83.0 1.76 maintain\n",
        "Jenna 27 F 62.0 1.64 lose"
      ],
      "metadata": {
        "id": "iKmt8xKxOA_6",
        "colab": {
          "base_uri": "https://localhost:8080/"
        },
        "outputId": "69dd1851-5b97-489c-fcc2-91030fb32b60"
      },
      "execution_count": 41,
      "outputs": [
        {
          "output_type": "stream",
          "name": "stdout",
          "text": [
            "Overwriting userInfo.txt\n"
          ]
        }
      ]
    },
    {
      "cell_type": "markdown",
      "source": [
        "workoutPlan.txt is ordered as followed: Activity >> IntensityLevel (1–4) >> CaloriesBurnPerMinute"
      ],
      "metadata": {
        "id": "1TpeoW8tNY5j"
      }
    },
    {
      "cell_type": "code",
      "source": [
        "%%writefile workout_plans.txt\n",
        "Running,3,12\n",
        "Swimming,2,10\n",
        "Cycling,3,11\n",
        "Yoga,1,4\n",
        "HIIT,4,14\n",
        "Walking,1,5\n",
        "Boxing,3,13\n",
        "Jump rope,2,10\n",
        "Pilates,2,6\n",
        "Strength training,3,9"
      ],
      "metadata": {
        "id": "JrG0_DtXNcT4",
        "colab": {
          "base_uri": "https://localhost:8080/"
        },
        "outputId": "8ddefa62-612b-4d05-d7b4-be05a9150018"
      },
      "execution_count": 42,
      "outputs": [
        {
          "output_type": "stream",
          "name": "stdout",
          "text": [
            "Overwriting workout_plans.txt\n"
          ]
        }
      ]
    },
    {
      "cell_type": "code",
      "source": [
        "%%writefile diet_plans.txt\n",
        "Breakfast,Oatmeal with banana,300\n",
        "Lunch,Grilled chicken salad,500\n",
        "Dinner,Salmon and veggies,450\n",
        "Snack,Yogurt with nuts,200\n",
        "Breakfast,Scrambled eggs and toast,350\n",
        "Lunch,Tuna sandwich,450\n",
        "Dinner,Spaghetti with meat sauce,600\n",
        "Snack,Fruit smoothie,250"
      ],
      "metadata": {
        "id": "ptRKKE-2Nfsr",
        "colab": {
          "base_uri": "https://localhost:8080/"
        },
        "outputId": "eab6bef7-8b63-4b2f-edd6-7ccb81d7a8f4"
      },
      "execution_count": 43,
      "outputs": [
        {
          "output_type": "stream",
          "name": "stdout",
          "text": [
            "Overwriting diet_plans.txt\n"
          ]
        }
      ]
    },
    {
      "cell_type": "code",
      "source": [
        "%%writefile database.txt\n",
        "Alice Password123\n",
        "Bob Password456\n",
        "Charlie Password789\n",
        "Diana Password101\n",
        "Ethan Password202\n",
        "Fiona Password303\n",
        "George Password404\n",
        "Hannah Password505\n",
        "Ian Password606\n",
        "Jenna Password707"
      ],
      "metadata": {
        "id": "Os-CcqUxOW9G",
        "colab": {
          "base_uri": "https://localhost:8080/"
        },
        "outputId": "63461533-bbd4-43c9-fcdf-223e4afbfafc"
      },
      "execution_count": 44,
      "outputs": [
        {
          "output_type": "stream",
          "name": "stdout",
          "text": [
            "Overwriting database.txt\n"
          ]
        }
      ]
    },
    {
      "cell_type": "markdown",
      "source": [
        "#C++ Code"
      ],
      "metadata": {
        "id": "qEFfH9VwNku1"
      }
    },
    {
      "cell_type": "code",
      "source": [
        "%%writefile BodyMetric.h\n",
        "#ifndef BODYMETRIC_H\n",
        "#define BODYMETRIC_H\n",
        "\n",
        "#include <string>\n",
        "using namespace std;\n",
        "\n",
        "class BodyMetric {\n",
        "private:\n",
        "  int age_;\n",
        "  string gender_;\n",
        "  float weight_;\n",
        "  float height_;\n",
        "  string goal_;\n",
        "  float bmi_;\n",
        "  string bmiStatus_;\n",
        "\n",
        "public:\n",
        "\n",
        "  // constructors\n",
        "  BodyMetric();\n",
        "  BodyMetric(int age, string gender, float weight, float height, string goal);\n",
        "\n",
        "  // BMI calculations\n",
        "  float calculateBMI() const;\n",
        "  void updateBMI();\n",
        "  string determineBMIStatus();\n",
        "\n",
        "  // Getters\n",
        "  int getAge() const;\n",
        "  string getGender() const;\n",
        "  float getWeight() const;\n",
        "  float getHeight() const;\n",
        "  string getGoal() const;\n",
        "  float getBMI() const;\n",
        "  string getBMIStatus() const;\n",
        "\n",
        "  // Setters\n",
        "  void setAge(int age);\n",
        "  void setGender(string gender);\n",
        "  void setWeight(float weight);\n",
        "  void setHeight(float height);\n",
        "  void setGoal(string goal);\n",
        "\n",
        "};\n",
        "\n",
        "#endif // BODYMETRIC_H"
      ],
      "metadata": {
        "colab": {
          "base_uri": "https://localhost:8080/"
        },
        "id": "kR_Ow9cM6YQK",
        "outputId": "43b95822-08a4-4add-e21e-6c04de5c3575"
      },
      "execution_count": 45,
      "outputs": [
        {
          "output_type": "stream",
          "name": "stdout",
          "text": [
            "Overwriting BodyMetric.h\n"
          ]
        }
      ]
    },
    {
      "cell_type": "code",
      "source": [
        "%%writefile BodyMetric.cpp\n",
        "\n",
        "#include <string>\n",
        "#include \"BodyMetric.h\"\n",
        "using namespace std;\n",
        "\n",
        "// Default Constructor\n",
        "BodyMetric::BodyMetric() {\n",
        "  age_ = 0;\n",
        "  gender_ = \"\";\n",
        "  weight_ = 0.0;\n",
        "  height_ = 0.0;\n",
        "  goal_ = \"\";\n",
        "}\n",
        "\n",
        "// Overloaded Constructor\n",
        "BodyMetric::BodyMetric(int age, string gender, float weight, float height, string goal) {\n",
        "  age_ = age;\n",
        "  gender_ = gender;\n",
        "  weight_ = weight;\n",
        "  height_ = height;\n",
        "  goal_ = goal;\n",
        "}\n",
        "\n",
        "// BMI calculations\n",
        "float BodyMetric::calculateBMI() const {\n",
        "  return weight_ / (height_ * height_);\n",
        "}\n",
        "\n",
        "void BodyMetric::updateBMI() {\n",
        "  bmi_ = calculateBMI();\n",
        "}\n",
        "\n",
        "string BodyMetric::determineBMIStatus() {\n",
        "  if (bmi_ < 18.5) {\n",
        "    bmiStatus_ = \"Underweight\";\n",
        "  } else if (bmi_ < 25) {\n",
        "    bmiStatus_ = \"Normal weight\";\n",
        "  } else if (bmi_ < 30) {\n",
        "    bmiStatus_ = \"Overweight\";\n",
        "  } else if (bmi_ < 35) {\n",
        "    bmiStatus_ = \"Class I: Obesity\";\n",
        "  } else if (bmi_ < 40) {\n",
        "    bmiStatus_ = \"Class II: Obesity\";\n",
        "  }else {\n",
        "    bmiStatus_ = \"Class III: Obesity\";\n",
        "  }\n",
        "\n",
        "  return bmiStatus_;\n",
        "}\n",
        "\n",
        "// Getters\n",
        "int BodyMetric::getAge() const {\n",
        "  return age_;\n",
        "}\n",
        "\n",
        "string BodyMetric::getGender() const {\n",
        "  return gender_;\n",
        "}\n",
        "\n",
        "float BodyMetric::getWeight() const {\n",
        "  return weight_;\n",
        "}\n",
        "\n",
        "float BodyMetric::getHeight() const {\n",
        "  return height_;\n",
        "}\n",
        "\n",
        "string BodyMetric::getGoal() const {\n",
        "  return goal_;\n",
        "}\n",
        "\n",
        "float BodyMetric::getBMI() const {\n",
        "  return bmi_;\n",
        "}\n",
        "\n",
        "string BodyMetric::getBMIStatus() const {\n",
        "  return bmiStatus_;\n",
        "}\n",
        "\n",
        "// Setters\n",
        "void BodyMetric::setAge(int age) {\n",
        "  age_ = age;\n",
        "}\n",
        "\n",
        "void BodyMetric::setGender(string gender) {\n",
        "  gender_ = gender;\n",
        "}\n",
        "\n",
        "void BodyMetric::setWeight(float weight) {\n",
        "  weight_ = weight;\n",
        "  updateBMI();\n",
        "}\n",
        "\n",
        "void BodyMetric::setHeight(float height) {\n",
        "  height_ = height;\n",
        "  updateBMI();\n",
        "}\n",
        "\n",
        "void BodyMetric::setGoal(string goal) {\n",
        "  goal_ = goal;\n",
        "}"
      ],
      "metadata": {
        "colab": {
          "base_uri": "https://localhost:8080/"
        },
        "id": "aAAB1Lmv8b7P",
        "outputId": "5fc688a7-a480-470b-84c0-4ec7f6f6aa6f"
      },
      "execution_count": 46,
      "outputs": [
        {
          "output_type": "stream",
          "name": "stdout",
          "text": [
            "Overwriting BodyMetric.cpp\n"
          ]
        }
      ]
    },
    {
      "cell_type": "code",
      "source": [
        "%%writefile Person.h\n",
        "#ifndef PERSON_H\n",
        "#define PERSON_H\n",
        "\n",
        "#include \"BodyMetric.h\"\n",
        "#include <string>\n",
        "using namespace std;\n",
        "\n",
        "class Person {\n",
        "private:\n",
        "  string username_;\n",
        "  string password_;\n",
        "  BodyMetric bodyMetric_; // composition\n",
        "\n",
        "public:\n",
        "\n",
        "  // constructors\n",
        "  Person();\n",
        "  Person(string username, string password); // overloaded constructor\n",
        "\n",
        "  // getters\n",
        "  string getUsername() const;\n",
        "  string getPassword() const;\n",
        "  BodyMetric&       getBodyMetric();\n",
        "  const BodyMetric& getBodyMetric() const;\n",
        "\n",
        "  // setters\n",
        "  void setUsername(string username);\n",
        "  void setPassword(string password);\n",
        "  void setBodyMetric(const BodyMetric& bm);\n",
        "\n",
        "};\n",
        "\n",
        "#endif // PERSON_H"
      ],
      "metadata": {
        "id": "bf_2ieFL-LAW",
        "colab": {
          "base_uri": "https://localhost:8080/"
        },
        "outputId": "e668bf2c-1f2e-4b01-b6ab-c17da6ed6664"
      },
      "execution_count": 47,
      "outputs": [
        {
          "output_type": "stream",
          "name": "stdout",
          "text": [
            "Overwriting Person.h\n"
          ]
        }
      ]
    },
    {
      "cell_type": "code",
      "source": [
        "%%writefile Person.cpp\n",
        "\n",
        "#include \"BodyMetric.h\"\n",
        "#include \"Person.h\"\n",
        "using namespace std;\n",
        "\n",
        "// Default Constructor\n",
        "Person::Person() {\n",
        "  username_ = \"\";\n",
        "  password_ = \"\";\n",
        "}\n",
        "\n",
        "// Overloaded Constructor\n",
        "Person::Person(string username, string password) {\n",
        "  username_ = username;\n",
        "  password_ = password;\n",
        "}\n",
        "\n",
        "// Getters\n",
        "string Person::getUsername() const {\n",
        "  return username_;\n",
        "}\n",
        "\n",
        "string Person::getPassword() const {\n",
        "  return password_;\n",
        "}\n",
        "\n",
        "BodyMetric& Person::getBodyMetric() {\n",
        "  return bodyMetric_;\n",
        "}\n",
        "const BodyMetric& Person::getBodyMetric() const {\n",
        "  return bodyMetric_;\n",
        "}\n",
        "// Setters\n",
        "void Person::setUsername(string username) {\n",
        "  username_ = username;\n",
        "}\n",
        "\n",
        "void Person::setPassword(string password) {\n",
        "  password_ = password;\n",
        "}\n",
        "\n",
        "void Person::setBodyMetric(const BodyMetric& bm) {\n",
        "  bodyMetric_ = bm;\n",
        "}"
      ],
      "metadata": {
        "id": "g2uZ-RGBRwre",
        "colab": {
          "base_uri": "https://localhost:8080/"
        },
        "outputId": "55944b0c-541a-4900-ef4e-c8cb00c26e49"
      },
      "execution_count": 48,
      "outputs": [
        {
          "output_type": "stream",
          "name": "stdout",
          "text": [
            "Overwriting Person.cpp\n"
          ]
        }
      ]
    },
    {
      "cell_type": "code",
      "source": [
        "%%writefile Database.h\n",
        "#ifndef DATABASE_H\n",
        "#define DATABASE_H\n",
        "\n",
        "#include \"BodyMetric.h\"\n",
        "#include \"Person.h\"\n",
        "#include <string>\n",
        "using namespace std;\n",
        "\n",
        "class Database {\n",
        "private:\n",
        "  static const int MAX_USERS = 100; // maximum number of users allowed\n",
        "  string credentialFile_;\n",
        "  string userInfoFile_;\n",
        "  int userCount_;\n",
        "  Person person_[MAX_USERS]; // array of User objects\n",
        "\n",
        "public:\n",
        "\n",
        "  // Constructor\n",
        "  Database(string credfile, string userfile); // overloaded constructor\n",
        "\n",
        "  // loading / saving file to and from memeory (credentials)\n",
        "  void loadFromFile();\n",
        "  void saveToFile();\n",
        "\n",
        "  // loading / saving file to and from memeory (credentials)\n",
        "  void loadUserFile();\n",
        "  void saveUserFile();\n",
        "\n",
        "  // login and registration functions\n",
        "  bool login(string username, string password) const;\n",
        "  bool registerUser(string username, string password);\n",
        "\n",
        "  // utilities\n",
        "  int getUserIndex(string username) const; // returns the index of the user with the given username, or -1 if not found\n",
        "  bool needsProfileUpdate(string username) const; // returns true if the user needs to update their profile, false otherwise\n",
        "  void updateProfile(string username); // updates the user's profile with the given bodyMetric\n",
        "\n",
        "  // health Info Submenu actions\n",
        "  void displayProfile(int userIndex) const; // displays the user's profile\n",
        "  void updateWeightHeight(int userIndex); // updates the user's profile\n",
        "  void setWeightGoal(int userIndex); // sets the user's weight goal\n",
        "};\n",
        "\n",
        "#endif // DATABASE_H"
      ],
      "metadata": {
        "id": "biB5uAcRTgeW",
        "colab": {
          "base_uri": "https://localhost:8080/"
        },
        "outputId": "032ca6a1-9453-4e45-c634-70b200710cc3"
      },
      "execution_count": 49,
      "outputs": [
        {
          "output_type": "stream",
          "name": "stdout",
          "text": [
            "Overwriting Database.h\n"
          ]
        }
      ]
    },
    {
      "cell_type": "code",
      "source": [
        "%%writefile Database.cpp\n",
        "\n",
        "#include \"BodyMetric.h\"\n",
        "#include \"Database.h\"\n",
        "#include <fstream>\n",
        "#include <iostream>\n",
        "\n",
        "using namespace std;\n",
        "\n",
        "// Constructor\n",
        "Database::Database(string credfile, string userfile) {\n",
        "  credentialFile_ = credfile;\n",
        "  userInfoFile_ = userfile;\n",
        "  userCount_ = 0;\n",
        "}\n",
        "\n",
        "// Load data from file to memory\n",
        "void Database::loadFromFile() {\n",
        "  ifstream inFile;\n",
        "  inFile.open(credentialFile_);\n",
        "\n",
        "  if (!inFile.is_open()) {\n",
        "    cout << \"Unable to open file: \" << credentialFile_ << endl;\n",
        "    return;\n",
        "  }\n",
        "\n",
        "  string username, password;\n",
        "  while ((inFile >> username >> password) && userCount_ < MAX_USERS) {\n",
        "    person_[userCount_] = Person(username, password);\n",
        "    userCount_++;\n",
        "  }\n",
        "  inFile.close();\n",
        "}\n",
        "\n",
        "void Database::loadUserFile() {\n",
        "  ifstream inFile2(userInfoFile_);\n",
        "  if (!inFile2.is_open()) {\n",
        "    cout << \"Unable to open file: \" << userInfoFile_ << \"\\n\";\n",
        "    return;\n",
        "  }\n",
        "\n",
        "  string uname, gender, goal;\n",
        "  int age;\n",
        "  float weight, height;\n",
        "\n",
        "  while (inFile2 >> uname >> age >> gender >> weight >> height >> goal) {\n",
        "    for (int i = 0; i < userCount_; ++i) {\n",
        "      if (person_[i].getUsername() == uname) {\n",
        "        // now that getBodyMetric() is non‑const, these calls stick:\n",
        "        person_[i].getBodyMetric().setAge(age);\n",
        "        person_[i].getBodyMetric().setGender(gender);\n",
        "        person_[i].getBodyMetric().setWeight(weight);\n",
        "        person_[i].getBodyMetric().setHeight(height);\n",
        "        person_[i].getBodyMetric().setGoal(goal);\n",
        "        person_[i].getBodyMetric().updateBMI();\n",
        "        person_[i].getBodyMetric().determineBMIStatus();\n",
        "        break;  // stop searching once matched\n",
        "      }\n",
        "    }\n",
        "  }\n",
        "  inFile2.close();\n",
        "}\n",
        "\n",
        "\n",
        "// Save data from memory to file\n",
        "void Database::saveToFile(){\n",
        "  ofstream outFile;\n",
        "  outFile.open(credentialFile_);\n",
        "\n",
        "  if (!outFile.is_open()) {\n",
        "    cout << \"Unable to open file: \" << credentialFile_ << endl;\n",
        "    return;\n",
        "  }\n",
        "\n",
        "  for (int i = 0; i < userCount_; i++) {\n",
        "    outFile << person_[i].getUsername() << \" \" << person_[i].getPassword() << endl;\n",
        "  }\n",
        "  outFile.close();\n",
        "}\n",
        "\n",
        "void Database::saveUserFile(){\n",
        "  ofstream outFile;\n",
        "  outFile.open(userInfoFile_);\n",
        "\n",
        "  if (!outFile.is_open()) {\n",
        "    cout << \"Unable to open file: \" << userInfoFile_ << endl;\n",
        "    return;\n",
        "  }\n",
        "\n",
        "  for (int i = 0; i < userCount_ ; i++) {\n",
        "    outFile << person_[i].getUsername() << \" \"\n",
        "        << person_[i].getBodyMetric().getAge() << \" \"\n",
        "        << person_[i].getBodyMetric().getGender() << \" \"\n",
        "        << person_[i].getBodyMetric().getWeight() << \" \"\n",
        "        << person_[i].getBodyMetric().getHeight() << \" \"\n",
        "        << person_[i].getBodyMetric().getGoal() << endl;\n",
        "\n",
        "  }\n",
        "  outFile.close();\n",
        "}\n",
        "\n",
        "bool Database::login(string username, string password) const {\n",
        "  for (int i = 0; i < userCount_; i++) {\n",
        "    if (person_[i].getUsername() == username && person_[i].getPassword() == password) {\n",
        "      cout << \"<Login successful!> Hello, \" << person_[i].getUsername()  << endl;\n",
        "      return true;\n",
        "    }\n",
        "  }\n",
        "  cout << \"<Login failed!> Invalid username or password.\" << endl;\n",
        "  return false;\n",
        "}\n",
        "\n",
        "bool Database::registerUser(string username, string password) {\n",
        "  if (userCount_ >= MAX_USERS) {\n",
        "    cout << \"<Registration failed!> Maximum number of users reached.\" << endl;\n",
        "    return false;\n",
        "  }\n",
        "\n",
        "  for (int i = 0; i < userCount_; i++) {\n",
        "    if (person_[i].getUsername() == username) {\n",
        "      cout << \"<Registration failed!> Username already exists.\" << endl;\n",
        "      return false;\n",
        "    }\n",
        "  }\n",
        "\n",
        "  person_[userCount_] = Person(username, password);\n",
        "  userCount_++;\n",
        "  cout << \"<Registration successful!> Welcome, \" << username << endl;\n",
        "  return true;\n",
        "}\n",
        "\n",
        "// utilities functions\n",
        "int Database::getUserIndex(string username) const {\n",
        "  for (int i = 0; i < userCount_; i++) {\n",
        "    if (person_[i].getUsername() == username) {\n",
        "      return i;\n",
        "    }\n",
        "  }\n",
        "  return -1;\n",
        "}\n",
        "\n",
        "bool Database::needsProfileUpdate(string username) const {\n",
        "  int index = getUserIndex(username);\n",
        "  if (index == -1) {\n",
        "    return false;\n",
        "  }\n",
        "\n",
        "  return (person_[index].getBodyMetric().getAge() == 0);\n",
        "}\n",
        "\n",
        "void Database::updateProfile(string username) {\n",
        "    int index = getUserIndex(username);\n",
        "    if (index == -1) {\n",
        "        cout << \"User not found.\\n\";\n",
        "        return;\n",
        "    }\n",
        "\n",
        "    // Declare temporaries\n",
        "    int age;\n",
        "    string gender;\n",
        "    float weight;\n",
        "    float height;\n",
        "    string goal;\n",
        "\n",
        "    // Prompt & read into them\n",
        "    cout << \"Enter your age: \";\n",
        "    cin  >> age;\n",
        "\n",
        "    cout << \"Enter your gender (M/F): \";\n",
        "    cin  >> gender;\n",
        "\n",
        "    cout << \"Enter your weight (kg): \";\n",
        "    cin  >> weight;\n",
        "\n",
        "    cout << \"Enter your height (m): \";\n",
        "    cin  >> height;\n",
        "\n",
        "    cout << \"Enter your weight goal (lose/maintain/gain): \";\n",
        "    cin  >> goal;\n",
        "\n",
        "    // Build a new BodyMetric and assign it\n",
        "    BodyMetric bm(age, gender, weight, height, goal);\n",
        "    person_[index].setBodyMetric(bm);\n",
        "\n",
        "    cout << \"Profile updated successfully.\\n\";\n",
        "}\n",
        "\n",
        "// health Info Submenu actions\n",
        "void Database::displayProfile(int userIndex) const {\n",
        "  cout << \"Username: \" << person_[userIndex].getUsername() << endl;\n",
        "  cout << \"Age: \" << person_[userIndex].getBodyMetric().getAge() << endl;\n",
        "  cout << \"Gender: \" << person_[userIndex].getBodyMetric().getGender() << endl;\n",
        "  cout << \"Weight: \" << person_[userIndex].getBodyMetric().getWeight() << \" kg\" << endl;\n",
        "  cout << \"Height: \" << person_[userIndex].getBodyMetric().getHeight() << \" m\" << endl;\n",
        "  cout << \"Weight Goal: \" << person_[userIndex].getBodyMetric().getGoal() << endl;\n",
        "  cout << \"BMI: \" << person_[userIndex].getBodyMetric().getBMI()\n",
        "       << \" (\" << person_[userIndex].getBodyMetric().getBMIStatus() << \")\" << endl << endl;\n",
        "}\n",
        "\n",
        "void Database::updateWeightHeight(int userIndex) {\n",
        "  float weight, height;\n",
        "  cout << \"Enter your weight (kg): \";\n",
        "  cin >> weight;\n",
        "  cout << \"Enter your height (m): \";\n",
        "  cin >> height;\n",
        "\n",
        "  person_[userIndex].getBodyMetric().setWeight(weight);\n",
        "  person_[userIndex].getBodyMetric().setHeight(height);\n",
        "  cout << \"Weight and height updated successfully.\" << endl;\n",
        "}\n",
        "\n",
        "void Database::setWeightGoal(int userIndex) {\n",
        "  string goal;\n",
        "  cout << \"Enter your weight goal (Lose/Maintain/Gain): \";\n",
        "  cin >> goal;\n",
        "  person_[userIndex].getBodyMetric().setGoal(goal);\n",
        "  cout << \"Weight goal updated successfully.\" << endl;\n",
        "}"
      ],
      "metadata": {
        "colab": {
          "base_uri": "https://localhost:8080/"
        },
        "id": "vzQOristP3c5",
        "outputId": "4638f2d0-e2af-4615-c4db-84d8feb708d0"
      },
      "execution_count": 50,
      "outputs": [
        {
          "output_type": "stream",
          "name": "stdout",
          "text": [
            "Overwriting Database.cpp\n"
          ]
        }
      ]
    },
    {
      "cell_type": "code",
      "source": [
        "%%writefile main.cpp\n",
        "\n",
        "#include \"Database.h\"\n",
        "#include <iostream>\n",
        "\n",
        "using namespace std;\n",
        "\n",
        "int main(){\n",
        "\n",
        "  const string credfile = \"database.txt\";\n",
        "  const string userfile = \"userInfo.txt\";\n",
        "\n",
        "  Database db(credfile, userfile);\n",
        "\n",
        "  db.loadFromFile();\n",
        "  db.loadUserFile();\n",
        "\n",
        "  string username, password;\n",
        "  int choice;\n",
        "\n",
        "  do {\n",
        "    cout << \"****************************************\" << endl;\n",
        "    cout << \"***** Welcome to My Health Journal *****\" << endl;\n",
        "    cout << \"Menu: \" << endl;\n",
        "    cout << \"[1] Login\" << endl;\n",
        "    cout << \"[2] Register\" << endl;\n",
        "    cout << \"[3] Exit\" << endl;\n",
        "    cout << \"Enter your choice: \";\n",
        "    cin >> choice;\n",
        "    cout << endl;\n",
        "\n",
        "    switch (choice) {\n",
        "      case 1:\n",
        "        cout << \"****************************************\" << endl;\n",
        "        cout << \"**************** Login *****************\" << endl;\n",
        "        cout << \"Enter username: \";\n",
        "        cin >> username;\n",
        "        cout << \"Enter password: \";\n",
        "        cin >> password;\n",
        "\n",
        "        // First Time login\n",
        "        if(db.login(username, password)){\n",
        "          if(db.needsProfileUpdate(username)){\n",
        "            db.updateProfile(username);\n",
        "          }\n",
        "\n",
        "          // Health Submenu\n",
        "          int subChoice;\n",
        "          int index = db.getUserIndex(username);\n",
        "          do {\n",
        "            cout << \"****************************************\" << endl;\n",
        "            cout << \"*********** Health Info Menu ***********\" << endl;\n",
        "            cout << \"[1] Display Profile Info\" << endl;\n",
        "            cout << \"[2] Update Weight and Height\" << endl;\n",
        "            cout << \"[3] Set Weight Goal\" << endl;\n",
        "            cout << \"[4] Logout & return to Main Menu\" << endl;\n",
        "            cout << \"Enter your choice: \";\n",
        "            cin >> subChoice;\n",
        "            cout << endl;\n",
        "\n",
        "            switch (subChoice) {\n",
        "              case 1:\n",
        "                db.displayProfile(index);\n",
        "                break;\n",
        "              case 2:\n",
        "                db.updateWeightHeight(index);\n",
        "                break;\n",
        "              case 3:\n",
        "                db.setWeightGoal(index);\n",
        "                break;\n",
        "              case 4:\n",
        "                cout << \"Returning to Main Menu...\" << endl;\n",
        "                break;\n",
        "              default:\n",
        "                cout << \"Invalid choice\" << endl;\n",
        "            }\n",
        "          } while (subChoice != 4);\n",
        "        }\n",
        "        break;\n",
        "\n",
        "      case 2:\n",
        "        cout << \"****************************************\" << endl;\n",
        "        cout << \"*************** Register ***************\" << endl;\n",
        "        cout << \"Enter username: \";\n",
        "        cin >> username;\n",
        "        cout << \"Enter password: \";\n",
        "        cin >> password;\n",
        "        db.registerUser(username, password);\n",
        "        break;\n",
        "\n",
        "      case 3:\n",
        "        cout << \"Thanks for visiting!\" << endl;\n",
        "        break;\n",
        "\n",
        "      default:\n",
        "        cout << \"Invalid choice\" << endl;\n",
        "    }\n",
        "\n",
        "  } while (choice != 3);\n",
        "\n",
        "  cout << \"Part 2  \" << endl;\n",
        "  db.saveToFile();\n",
        "  db.saveUserFile();\n",
        "\n",
        "  return 0;\n",
        "}"
      ],
      "metadata": {
        "colab": {
          "base_uri": "https://localhost:8080/"
        },
        "id": "4dJ4GAg7P8zx",
        "outputId": "502ee3d4-fc53-4067-943b-169e4a816ed5"
      },
      "execution_count": 51,
      "outputs": [
        {
          "output_type": "stream",
          "name": "stdout",
          "text": [
            "Overwriting main.cpp\n"
          ]
        }
      ]
    },
    {
      "cell_type": "code",
      "source": [
        "%%shell\n",
        "g++ BodyMetric.cpp Person.cpp Database.cpp main.cpp -o HealthJournal.elf\n",
        "./HealthJournal.elf"
      ],
      "metadata": {
        "colab": {
          "base_uri": "https://localhost:8080/"
        },
        "id": "LZMLmRaoLE36",
        "outputId": "f8ccdef6-7a00-4abf-c2b0-4e8ce0e2a7b8"
      },
      "execution_count": 52,
      "outputs": [
        {
          "output_type": "stream",
          "name": "stdout",
          "text": [
            "****************************************\n",
            "***** Welcome to My Health Journal *****\n",
            "Menu: \n",
            "[1] Login\n",
            "[2] Register\n",
            "[3] Exit\n",
            "Enter your choice: 1\n",
            "\n",
            "****************************************\n",
            "**************** Login *****************\n",
            "Enter username: Alice\n",
            "Enter password: Password123\n",
            "<Login successful!> Hello, Alice\n",
            "****************************************\n",
            "*********** Health Info Menu ***********\n",
            "[1] Display Profile Info\n",
            "[2] Update Weight and Height\n",
            "[3] Set Weight Goal\n",
            "[4] Logout & return to Main Menu\n",
            "Enter your choice: 1\n",
            "\n",
            "Username: Alice\n",
            "Age: 25\n",
            "Gender: F\n",
            "Weight: 65 kg\n",
            "Height: 1.7 m\n",
            "Weight Goal: lose\n",
            "BMI: 22.4913 (Normal weight)\n",
            "\n",
            "****************************************\n",
            "*********** Health Info Menu ***********\n",
            "[1] Display Profile Info\n",
            "[2] Update Weight and Height\n",
            "[3] Set Weight Goal\n",
            "[4] Logout & return to Main Menu\n",
            "Enter your choice: 4\n",
            "\n",
            "Returning to Main Menu...\n",
            "****************************************\n",
            "***** Welcome to My Health Journal *****\n",
            "Menu: \n",
            "[1] Login\n",
            "[2] Register\n",
            "[3] Exit\n",
            "Enter your choice: 3\n",
            "\n",
            "Thanks for visiting!\n",
            "Part 2  \n"
          ]
        },
        {
          "output_type": "execute_result",
          "data": {
            "text/plain": []
          },
          "metadata": {},
          "execution_count": 52
        }
      ]
    },
    {
      "cell_type": "code",
      "source": [
        "import os\n",
        "with open(\"database.txt\",\"r\") as file:\n",
        "    print(file.read())"
      ],
      "metadata": {
        "colab": {
          "base_uri": "https://localhost:8080/"
        },
        "id": "FMUKfniWpAiO",
        "outputId": "ea6e7fda-44fb-4c05-c0a0-c3b6adec451e"
      },
      "execution_count": 53,
      "outputs": [
        {
          "output_type": "stream",
          "name": "stdout",
          "text": [
            "Alice Password123\n",
            "Bob Password456\n",
            "Charlie Password789\n",
            "Diana Password101\n",
            "Ethan Password202\n",
            "Fiona Password303\n",
            "George Password404\n",
            "Hannah Password505\n",
            "Ian Password606\n",
            "Jenna Password707\n",
            "\n"
          ]
        }
      ]
    },
    {
      "cell_type": "code",
      "source": [
        "import os\n",
        "with open(\"userInfo.txt\",\"r\") as file:\n",
        "    print(file.read())"
      ],
      "metadata": {
        "colab": {
          "base_uri": "https://localhost:8080/"
        },
        "id": "xU9ouGKVTSCl",
        "outputId": "a247d717-bcca-4226-92d5-b84f2a0ab0c3"
      },
      "execution_count": 54,
      "outputs": [
        {
          "output_type": "stream",
          "name": "stdout",
          "text": [
            "Alice 25 F 65 1.7 lose\n",
            "Bob 30 M 78 1.8 maintain\n",
            "Charlie 28 M 85 1.75 gain\n",
            "Diana 22 F 55 1.6 lose\n",
            "Ethan 35 M 90 1.82 maintain\n",
            "Fiona 29 F 60 1.65 gain\n",
            "George 31 M 88 1.78 lose\n",
            "Hannah 26 F 58 1.68 gain\n",
            "Ian 33 M 83 1.76 maintain\n",
            "Jenna 27 F 62 1.64 lose\n",
            "\n"
          ]
        }
      ]
    },
    {
      "cell_type": "markdown",
      "source": [
        "##Example Output 1:\n",
        "Scenario 1: Checking a specific user information, followed by recording new info and recalculate suggested work out plan."
      ],
      "metadata": {
        "id": "q9sewWJNNuu6"
      }
    }
  ]
}
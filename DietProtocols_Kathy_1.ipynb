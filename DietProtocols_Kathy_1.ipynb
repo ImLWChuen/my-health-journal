{
  "nbformat": 4,
  "nbformat_minor": 0,
  "metadata": {
    "colab": {
      "provenance": []
    },
    "kernelspec": {
      "name": "python3",
      "display_name": "Python 3"
    },
    "language_info": {
      "name": "python"
    }
  },
  "cells": [
    {
      "cell_type": "code",
      "execution_count": null,
      "metadata": {
        "id": "_EtLNhMLIiZu",
        "colab": {
          "base_uri": "https://localhost:8080/"
        },
        "outputId": "e5c68934-c30f-45a5-f455-56fd7406e658"
      },
      "outputs": [
        {
          "output_type": "stream",
          "name": "stdout",
          "text": [
            "Writing diet_plans.txt\n"
          ]
        }
      ],
      "source": [
        "%%writefile diet_plans.txt\n",
        "Breakfast,Oatmeal with banana,300\n",
        "Lunch,Grilled chicken salad,500\n",
        "Dinner,Salmon and veggies,450\n",
        "Snack,Yogurt with nuts,200\n",
        "Breakfast,Scrambled eggs and toast,350\n",
        "Lunch,Tuna sandwich,450\n",
        "Dinner,Spaghetti with meat sauce,600\n",
        "Snack,Fruit smoothie,250"
      ]
    },
    {
      "cell_type": "markdown",
      "source": [
        "#Header Class"
      ],
      "metadata": {
        "id": "a_piQZMt0c6Q"
      }
    },
    {
      "cell_type": "code",
      "source": [
        "%%writefile DietPlans.h\n",
        "#ifndef DIETPLANS_H\n",
        "#define DIETPLANS_H\n",
        "#include<iostream>\n",
        "using namespace std;\n",
        "\n",
        "class DietPlans{\n",
        "  private:\n",
        "    string type_; //Breakfast, Lunch, Dinner, Snack\n",
        "    string plan_; //Patmeal with banana, Grilled chicken salad, Salmon and veggies, Yogurt with nuts\n",
        "    int calories_;\n",
        "\n",
        "  public:\n",
        "    DietPlans();\n",
        "    DietPlans(string, string, int);\n",
        "    string getType() const;\n",
        "    string getPlan() const;\n",
        "    int getCalories() const;\n",
        "    void setType(string);\n",
        "    void setPlan(string);\n",
        "    void setCalories(int);\n",
        "    void setMeal(string, string, int);\n",
        "};\n",
        "\n",
        "#endif"
      ],
      "metadata": {
        "colab": {
          "base_uri": "https://localhost:8080/"
        },
        "id": "izEuj9mOyEBU",
        "outputId": "15028847-24cb-4306-e6bc-cba9947d523e"
      },
      "execution_count": null,
      "outputs": [
        {
          "output_type": "stream",
          "name": "stdout",
          "text": [
            "Overwriting DietPlans.h\n"
          ]
        }
      ]
    },
    {
      "cell_type": "code",
      "source": [
        "%%writefile DietPlansImp.cpp\n",
        "\n",
        "#include \"DietPlans.h\"\n",
        "#include<iostream>\n",
        "#include<string>\n",
        "using namespace std;\n",
        "\n",
        "DietPlans::DietPlans(){\n",
        "  type_ = \"\";\n",
        "  plan_ = \"\";\n",
        "  calories_ = 0;\n",
        "}\n",
        "\n",
        "DietPlans::DietPlans(string t, string p, int c){\n",
        "  type_ = t;\n",
        "  plan_ = p;\n",
        "  calories_ = c;\n",
        "}\n",
        "\n",
        "string DietPlans::getType() const{\n",
        "  return type_;\n",
        "}\n",
        "\n",
        "string DietPlans::getPlan() const{\n",
        "  return plan_;\n",
        "}\n",
        "\n",
        "int DietPlans::getCalories() const{\n",
        "  return calories_;\n",
        "}\n",
        "\n",
        "void DietPlans::setType(string t){\n",
        "  type_ = t;\n",
        "}\n",
        "\n",
        "void DietPlans::setPlan(string p){\n",
        "  plan_ = p;\n",
        "}\n",
        "\n",
        "void DietPlans::setCalories(int c){\n",
        "  calories_ = c;\n",
        "}\n",
        "\n",
        "void DietPlans::setMeal(string t, string p, int c){\n",
        "  setType(t);\n",
        "  setPlan(p);\n",
        "  setCalories(c);\n",
        "}"
      ],
      "metadata": {
        "colab": {
          "base_uri": "https://localhost:8080/"
        },
        "id": "a8By1Paz7nJQ",
        "outputId": "2cf57489-f563-4620-9e02-ca727c791989"
      },
      "execution_count": null,
      "outputs": [
        {
          "output_type": "stream",
          "name": "stdout",
          "text": [
            "Overwriting DietPlansImp.cpp\n"
          ]
        }
      ]
    },
    {
      "cell_type": "code",
      "source": [
        "%%writefile main.cpp\n",
        "\n",
        "#include <iostream>\n",
        "#include <fstream>\n",
        "#include \"DietPlans.h\"\n",
        "using namespace std;\n",
        "\n",
        "//Constants\n",
        "const int MIN_F_INTAKE = 1200; //minimum calories intake for female\n",
        "const int MIN_M_INTAKE = 1500; //minimum calories intake for male\n",
        "const int NUM_PLANS = 20;      //number of plans\n",
        "\n",
        "//Function Prototypes\n",
        "string isRecorded(int);\n",
        "int selectPlan(const DietPlans*, const int, string);\n",
        "string trackCalories(const DietPlans*, int[]);\n",
        "void compareCalories(const DietPlans*, int[], int, int, char);\n",
        "\n",
        "int main(){\n",
        "  DietPlans* dpArray = new DietPlans[NUM_PLANS];\n",
        "  ifstream dietFile;\n",
        "  dietFile.open(\"diet_plans.txt\");\n",
        "\n",
        "  if(!dietFile){ //Check if dietfile is open\n",
        "    cout << \"Error opening file\" << endl;\n",
        "    return 1;\n",
        "  }\n",
        "\n",
        "  string type = \"\"; //meal type\n",
        "  string plan = \"\"; //meal plan(food plan)\n",
        "  int calories = 0; //calories of meal\n",
        "  int numPlans = 0;\n",
        "\n",
        "  while (getline(dietFile, type, ',') && getline(dietFile, plan, ',') && dietFile >> calories) {\n",
        "    dietFile.ignore(); // to skip the newline character after reading calories\n",
        "    dpArray[numPlans++].setMeal(type, plan, calories);\n",
        "  }\n",
        "\n",
        "  dietFile.close(); //close file\n",
        "\n",
        "  //test\n",
        "  /*\n",
        "  for(int i = 0; i < numPlans; i++){\n",
        "    cout << dpArray[i].getType() << \" \" << dpArray[i].getPlan() << \" \" << dpArray[i].getCalories() << endl;\n",
        "  }*/\n",
        "\n",
        "  int mealtype = 0; //meal type option\n",
        "  int dailyPlan[4] = {-1,-1,-1,-1}; //meal plan selection, stores the plan index according dpArray\n",
        "  int totalCal = 0; //total calories intake\n",
        "  //refer previous variables\n",
        "  int calories_limit = 2000; //limit suggested by program\n",
        "  char gender = 'F'; //gender of user\n",
        "\n",
        "  do{\n",
        "    cout << \"**********************************\" << endl;\n",
        "    cout << \"*********** Daily Diet ***********\" << endl;\n",
        "    cout << \"Meal Type:\" << endl;\n",
        "    cout << \"[1] Breakfast\" << isRecorded(dailyPlan[0]) << endl;\n",
        "    cout << \"[2] Lunch\" << isRecorded(dailyPlan[1]) << endl;\n",
        "    cout << \"[3] Dinner\" << isRecorded(dailyPlan[2]) << endl;\n",
        "    cout << \"[4] Snack\" << isRecorded(dailyPlan[3]) << endl;\n",
        "    cout << \"[5] Done\" << endl;\n",
        "    cout << \"**********************************\" << endl;\n",
        "    cout << \"Recommended Calories Intake: \" << rec_cal << endl;\n",
        "    cout << \"Current\" << trackCalories(dpArray, dailyPlan, totalCal);\n",
        "    cout << \"Enter Meal Type: \";\n",
        "    cin >> mealtype;\n",
        "\n",
        "    cout << \"**********************************\" << endl;\n",
        "    switch(mealtype){\n",
        "      case 1:\n",
        "        dailyPlan[0] = selectPlan(dpArray, numPlans, \"Breakfast\");\n",
        "        break;\n",
        "      case 2:\n",
        "        dailyPlan[1] = selectPlan(dpArray, numPlans, \"Lunch\");\n",
        "        break;\n",
        "      case 3:\n",
        "        dailyPlan[2] = selectPlan(dpArray, numPlans, \"Dinner\");\n",
        "        break;\n",
        "      case 4:\n",
        "        dailyPlan[3] = selectPlan(dpArray, numPlans, \"Snack\");\n",
        "        break;\n",
        "      case 5:\n",
        "        cout << \"Total \" << trackCalories(dpArray, dailyPlan, totalCal) << endl;\n",
        "        compareCalories(dpArray, dailyPlan, totalCal, calories_limit, gender);\n",
        "        break;\n",
        "      default:\n",
        "        cout << \"Invalid option\" << endl;\n",
        "    }\n",
        "\n",
        "  }while(mealtype != 5);\n",
        "\n",
        "\n",
        "  delete[] dpArray; //delete dynamic array\n",
        "  dpArray = nullptr;\n",
        "\n",
        "  return 0;\n",
        "}\n",
        "\n",
        "//Function Declaration\n",
        "\n",
        "void defineSuggestion(const DietPlans dp[], int plans[], int diff){\n",
        "  int i = 0;\n",
        "\n",
        "void compareCalories(const DietPlans dp[], int plans[], int tot, int limit, char gender){\n",
        "  if(gender == 'F')\n",
        "    min = MIN_F_INTAKE;\n",
        "  else if(gender == 'M')\n",
        "    min = MIN_M_INTAKE;\n",
        "\n",
        "  int diff;\n",
        "\n",
        "  if(tot < min){\n",
        "    diff = min - tot;\n",
        "    defineSuggestion(dp, plans, diff);\n",
        "  }\n",
        "  else if(tot > limit){\n",
        "    diff = tot - limit;\n",
        "  }\n",
        "  else{\n",
        "\n",
        "  }\n",
        "}\n",
        "\n",
        "//trackCalories()\n",
        "// calculate and return the total calories intake of the selected meal plans\n",
        "string trackCalories(const DietPlans dp[], int plan[], int &tot){\n",
        "  for(int i = 0; i < 4; i++){\n",
        "    if(plan[i] != -1){\n",
        "      tot += dp[plan[i]].getCalories();\n",
        "    }\n",
        "  }\n",
        "  return (\"Calories Intake:\" + tot + \"\\n\");\n",
        "}\n",
        "\n",
        "//selectPlan()\n",
        "// prints all the meal plans for a specific meal type\n",
        "// then prompts user to select a meal plan\n",
        "// returns the dpArray index of selected meal plan\n",
        "int selectPlan(const DietPlans dp[], int plans, string meal){\n",
        "  int opt = 1;    //plan option index\n",
        "  int plan = 0;   //plan selection\n",
        "  int j = 0;      //index for dpIndex\n",
        "  int dpIndex[plans]; //array of the indexes of the particular meal types\n",
        "\n",
        "  cout << meal << \"Meal Plan: \" << endl;\n",
        "\n",
        "  for(int i = 0; i < plans; i++){\n",
        "    if(dp[i].getType() == meal){\n",
        "      cout << \"[\" << opt++ << \"] \" << dp[i].getPlan() << \" (\" << dp[i].getCalories() << \" calories)\" << endl;\n",
        "      dpIndex[j++] = i;\n",
        "    }\n",
        "  }\n",
        "\n",
        "  cout << \"Enter Plan: \";\n",
        "  cin >> plan;\n",
        "\n",
        "  return dpIndex[plan - 1];\n",
        "}\n",
        "\n",
        "//isRecorded()\n",
        "// prints a (Recorded) behind the meal type in the menu to indicate that\n",
        "// the meal plan for the meal type is already chosen\n",
        "string isRecorded(int meal){\n",
        "  if(meal == -1){\n",
        "    return \"\";\n",
        "  }\n",
        "  else{\n",
        "    return \" (Recorded)\";\n",
        "  }\n",
        "}"
      ],
      "metadata": {
        "id": "8QvIKW2A3p52"
      },
      "execution_count": null,
      "outputs": []
    },
    {
      "cell_type": "code",
      "source": [],
      "metadata": {
        "id": "zYojcViBqsEH"
      },
      "execution_count": null,
      "outputs": []
    },
    {
      "cell_type": "code",
      "source": [
        "%%shell\n",
        "g++ DietPlans.h DietPlansImp.cpp main.cpp -o HealthJournal.elf\n",
        "./HealthJournal.elf"
      ],
      "metadata": {
        "colab": {
          "base_uri": "https://localhost:8080/"
        },
        "id": "RV0gs_8wolpx",
        "outputId": "524ff213-ba42-4f4e-ce50-c539cfa5ef98"
      },
      "execution_count": null,
      "outputs": [
        {
          "output_type": "stream",
          "name": "stdout",
          "text": [
            "**********************************\n",
            "*********** Daily Diet ***********\n",
            "Meal Type:\n",
            "[1] Breakfast\n",
            "[2] Lunch\n",
            "[3] Dinner\n",
            "[4] Snack\n",
            "[5] Done\n",
            "**********************************\n",
            "Current Calories Intake: 0\n",
            "Enter Meal Type: 1\n",
            "**********************************\n",
            "BreakfastMeal Plan: \n",
            "[1] Oatmeal with banana (300 calories)\n",
            "[2] Scrambled eggs and toast (350 calories)\n",
            "Enter Plan: 1\n",
            "**********************************\n",
            "*********** Daily Diet ***********\n",
            "Meal Type:\n",
            "[1] Breakfast (Recorded)\n",
            "[2] Lunch\n",
            "[3] Dinner\n",
            "[4] Snack\n",
            "[5] Done\n",
            "**********************************\n",
            "Current Calories Intake: 300\n",
            "Enter Meal Type: 3\n",
            "**********************************\n",
            "DinnerMeal Plan: \n",
            "[1] Salmon and veggies (450 calories)\n",
            "[2] Spaghetti with meat sauce (600 calories)\n",
            "Enter Plan: 2\n",
            "**********************************\n",
            "*********** Daily Diet ***********\n",
            "Meal Type:\n",
            "[1] Breakfast (Recorded)\n",
            "[2] Lunch\n",
            "[3] Dinner (Recorded)\n",
            "[4] Snack\n",
            "[5] Done\n",
            "**********************************\n",
            "Current Calories Intake: 900\n",
            "Enter Meal Type: 5\n",
            "Total Calories Intake: \n",
            "Diet Plan met...\n"
          ]
        },
        {
          "output_type": "execute_result",
          "data": {
            "text/plain": []
          },
          "metadata": {},
          "execution_count": 92
        }
      ]
    }
  ]
}
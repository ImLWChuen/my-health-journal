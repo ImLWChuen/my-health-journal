{
  "nbformat": 4,
  "nbformat_minor": 0,
  "metadata": {
    "colab": {
      "provenance": []
    },
    "kernelspec": {
      "name": "python3",
      "display_name": "Python 3"
    },
    "language_info": {
      "name": "python"
    }
  },
  "cells": [
    {
      "cell_type": "markdown",
      "source": [
        "# Hackathon Group 36\n",
        "\n",
        "# Members:\n",
        "> Lim Jie Shen \\\\\n",
        "> Loh Wei Chuen \\\\\n",
        "> Lum Yeen Thoong \\\\\n",
        "\n",
        "\n",
        "---\n",
        "\n",
        "\n",
        "#Project Title: My Health Journal\n",
        "\n",
        "##Project Specification:\n"
      ],
      "metadata": {
        "id": "O23vl_RJLlbj"
      }
    },
    {
      "cell_type": "markdown",
      "source": [
        "##Problem Analysis"
      ],
      "metadata": {
        "id": "8ouPHgh8MrSt"
      }
    },
    {
      "cell_type": "markdown",
      "source": [
        "Describe the requirements of your program and relate it to how you solve the given problem."
      ],
      "metadata": {
        "id": "CwaIi8lLM2GW"
      }
    },
    {
      "cell_type": "markdown",
      "source": [
        "# Programming Design & Solution"
      ],
      "metadata": {
        "id": "5defr4gJM4U3"
      }
    },
    {
      "cell_type": "markdown",
      "source": [
        "#UML Diagram and relationship"
      ],
      "metadata": {
        "id": "s_kCZWJcM8ND"
      }
    },
    {
      "cell_type": "markdown",
      "source": [
        "username password realname"
      ],
      "metadata": {
        "id": "3PTwLMpqrVIV"
      }
    },
    {
      "cell_type": "markdown",
      "source": [
        "##Input files needed by the program:"
      ],
      "metadata": {
        "id": "19TtYBD3NLld"
      }
    },
    {
      "cell_type": "markdown",
      "source": [
        "This is the input files needed.\n",
        "\n",
        "userInfo.txt is ordered as followed: Name >> Age >> Gender >> Weight(kg) >> Height(m) >> User's_Goal"
      ],
      "metadata": {
        "id": "UcrQsAUKNSpH"
      }
    },
    {
      "cell_type": "code",
      "source": [
        "%%writefile userInfo.txt\n",
        "Alice 25 F 65.0 1.70 lose\n",
        "Bob 30 M 78.0 1.80 maintain\n",
        "Charlie 28 M 85.0 1.75 gain\n",
        "Diana 22 F 55.0 1.60 lose\n",
        "Ethan 35 M 90.0 1.82 maintain\n",
        "Fiona 29 F 60.0 1.65 gain\n",
        "George 31 M 88.0 1.78 lose\n",
        "Hannah 26 F 58.0 1.68 gain\n",
        "Ian 33 M 83.0 1.76 maintain\n",
        "Jenna 27 F 62.0 1.64 lose"
      ],
      "metadata": {
        "id": "iKmt8xKxOA_6",
        "colab": {
          "base_uri": "https://localhost:8080/"
        },
        "outputId": "74e464b0-68ca-4cd9-e744-da5286441c81"
      },
      "execution_count": 37,
      "outputs": [
        {
          "output_type": "stream",
          "name": "stdout",
          "text": [
            "Overwriting userInfo.txt\n"
          ]
        }
      ]
    },
    {
      "cell_type": "markdown",
      "source": [
        "workoutPlan.txt is ordered as followed: Activity >> IntensityLevel (1–4) >> CaloriesBurnPerMinute"
      ],
      "metadata": {
        "id": "1TpeoW8tNY5j"
      }
    },
    {
      "cell_type": "code",
      "source": [
        "%%writefile workout_plans.txt\n",
        "Running,3,12\n",
        "Swimming,2,10\n",
        "Cycling,3,11\n",
        "Yoga,1,4\n",
        "HIIT,4,14\n",
        "Walking,1,5\n",
        "Boxing,3,13\n",
        "Jump rope,2,10\n",
        "Pilates,2,6\n",
        "Strength training,3,9"
      ],
      "metadata": {
        "id": "JrG0_DtXNcT4",
        "colab": {
          "base_uri": "https://localhost:8080/"
        },
        "outputId": "8f077a56-8c2d-44eb-8ded-a19e83172127"
      },
      "execution_count": 38,
      "outputs": [
        {
          "output_type": "stream",
          "name": "stdout",
          "text": [
            "Overwriting workout_plans.txt\n"
          ]
        }
      ]
    },
    {
      "cell_type": "code",
      "source": [
        "%%writefile diet_plans.txt\n",
        "Breakfast,Oatmeal with banana,300\n",
        "Lunch,Grilled chicken salad,500\n",
        "Dinner,Salmon and veggies,450\n",
        "Snack,Yogurt with nuts,200\n",
        "Breakfast,Scrambled eggs and toast,350\n",
        "Lunch,Tuna sandwich,450\n",
        "Dinner,Spaghetti with meat sauce,600\n",
        "Snack,Fruit smoothie,250"
      ],
      "metadata": {
        "id": "ptRKKE-2Nfsr",
        "colab": {
          "base_uri": "https://localhost:8080/"
        },
        "outputId": "ba7042fb-6c70-46e1-b203-011bf1f1c4aa"
      },
      "execution_count": 39,
      "outputs": [
        {
          "output_type": "stream",
          "name": "stdout",
          "text": [
            "Overwriting diet_plans.txt\n"
          ]
        }
      ]
    },
    {
      "cell_type": "code",
      "source": [
        "%%writefile database.txt\n",
        "Alice Password123\n",
        "Bob Password456\n",
        "Charlie Password789\n",
        "Diana Password101\n",
        "Ethan Password202\n",
        "Fiona Password303\n",
        "George Password404\n",
        "Hannah Password505\n",
        "Ian Password606\n",
        "Jenna Password707"
      ],
      "metadata": {
        "id": "Os-CcqUxOW9G",
        "colab": {
          "base_uri": "https://localhost:8080/"
        },
        "outputId": "0690f338-09be-4d42-f850-dd5bcd184fbb"
      },
      "execution_count": 40,
      "outputs": [
        {
          "output_type": "stream",
          "name": "stdout",
          "text": [
            "Overwriting database.txt\n"
          ]
        }
      ]
    },
    {
      "cell_type": "markdown",
      "source": [
        "#C++ Code"
      ],
      "metadata": {
        "id": "qEFfH9VwNku1"
      }
    },
    {
      "cell_type": "code",
      "source": [
        "%%writefile Person.h\n",
        "#ifndef PERSON_H\n",
        "#define PERSON_H\n",
        "\n",
        "#include <string>\n",
        "using namespace std;\n",
        "\n",
        "class Person {\n",
        "private:\n",
        "  string username_;\n",
        "  string password_;\n",
        "\n",
        "public:\n",
        "\n",
        "  // constructors\n",
        "  Person();\n",
        "  Person(string username, string password); // overloaded constructor\n",
        "\n",
        "  // getters\n",
        "  string getUsername() const;\n",
        "  string getPassword() const;\n",
        "\n",
        "  // setters\n",
        "  void setUsername(string username);\n",
        "  void setPassword(string password);\n",
        "\n",
        "};\n",
        "\n",
        "#endif // PERSON_H"
      ],
      "metadata": {
        "id": "bf_2ieFL-LAW",
        "colab": {
          "base_uri": "https://localhost:8080/"
        },
        "outputId": "362391b8-72ea-4103-8df4-6d2bb1d2ac75"
      },
      "execution_count": 41,
      "outputs": [
        {
          "output_type": "stream",
          "name": "stdout",
          "text": [
            "Overwriting Person.h\n"
          ]
        }
      ]
    },
    {
      "cell_type": "code",
      "source": [
        "%%writefile Person.cpp\n",
        "\n",
        "#include \"Person.h\"\n",
        "using namespace std;\n",
        "\n",
        "// Default Constructor\n",
        "Person::Person() {\n",
        "  username_ = \"\";\n",
        "  password_ = \"\";\n",
        "}\n",
        "\n",
        "// Overloaded Constructor\n",
        "Person::Person(string username, string password) {\n",
        "  username_ = username;\n",
        "  password_ = password;\n",
        "}\n",
        "\n",
        "// Getters\n",
        "string Person::getUsername() const {\n",
        "  return username_;\n",
        "}\n",
        "\n",
        "string Person::getPassword() const {\n",
        "  return password_;\n",
        "}\n",
        "\n",
        "// Setters\n",
        "void Person::setUsername(string username) {\n",
        "  username_ = username;\n",
        "}\n",
        "\n",
        "void Person::setPassword(string password) {\n",
        "  password_ = password;\n",
        "}"
      ],
      "metadata": {
        "id": "g2uZ-RGBRwre",
        "colab": {
          "base_uri": "https://localhost:8080/"
        },
        "outputId": "dbbb5417-a93e-49f6-cbd1-c8f5ae9cb4de"
      },
      "execution_count": 42,
      "outputs": [
        {
          "output_type": "stream",
          "name": "stdout",
          "text": [
            "Overwriting Person.cpp\n"
          ]
        }
      ]
    },
    {
      "cell_type": "code",
      "source": [
        "%%writefile Database.h\n",
        "#ifndef DATABASE_H\n",
        "#define DATABASE_H\n",
        "\n",
        "#include \"Person.h\"\n",
        "#include <string>\n",
        "using namespace std;\n",
        "\n",
        "class Database {\n",
        "private:\n",
        "  static const int MAX_USERS = 100; // maximum number of users allowed\n",
        "  string credentialFile_;\n",
        "  int userCount_;\n",
        "  Person person_[MAX_USERS]; // array of User objects\n",
        "\n",
        "public:\n",
        "\n",
        "  // Constructor\n",
        "  Database(string credfile); // overloaded constructor\n",
        "\n",
        "  // loading / saving file to and from memeory\n",
        "  void loadFromFile();\n",
        "  void saveToFile();\n",
        "\n",
        "  // login and registration functions\n",
        "  bool login(string username, string password) const;\n",
        "  bool registerUser(string username, string password);\n",
        "\n",
        "};\n",
        "\n",
        "#endif // DATABASE_H"
      ],
      "metadata": {
        "id": "biB5uAcRTgeW",
        "colab": {
          "base_uri": "https://localhost:8080/"
        },
        "outputId": "2d413a7e-cf0b-48ce-feab-d3377ee692ee"
      },
      "execution_count": 43,
      "outputs": [
        {
          "output_type": "stream",
          "name": "stdout",
          "text": [
            "Overwriting Database.h\n"
          ]
        }
      ]
    },
    {
      "cell_type": "code",
      "source": [
        "%%writefile Database.cpp\n",
        "\n",
        "#include \"Database.h\"\n",
        "#include <fstream>\n",
        "#include <iostream>\n",
        "\n",
        "using namespace std;\n",
        "\n",
        "// Constructor\n",
        "Database::Database(string credfile) {\n",
        "  credentialFile_ = credfile;\n",
        "  userCount_ = 0;\n",
        "}\n",
        "\n",
        "// Load data from file to memory\n",
        "void Database::loadFromFile() {\n",
        "  ifstream inFile;\n",
        "  inFile.open(credentialFile_);\n",
        "\n",
        "  if (!inFile.is_open()) {\n",
        "    cout << \"Unable to open file: \" << credentialFile_ << endl;\n",
        "    return;\n",
        "  }\n",
        "\n",
        "  string username, password;\n",
        "  while ((inFile >> username >> password) && userCount_ < MAX_USERS) {\n",
        "    person_[userCount_] = Person(username, password);\n",
        "    userCount_++;\n",
        "  }\n",
        "}\n",
        "\n",
        "void Database::saveToFile() {\n",
        "  ofstream outFile;\n",
        "  outFile.open(credentialFile_);\n",
        "\n",
        "  if (!outFile.is_open()) {\n",
        "    cout << \"Unable to open file: \" << credentialFile_ << endl;\n",
        "    return;\n",
        "  }\n",
        "\n",
        "  for (int i = 0; i < userCount_; i++) {\n",
        "    outFile << person_[i].getUsername() << \" \" << person_[i].getPassword() << endl;\n",
        "  }\n",
        "}\n",
        "\n",
        "bool Database::login(string username, string password) const {\n",
        "  for (int i = 0; i < userCount_; i++) {\n",
        "    if (person_[i].getUsername() == username && person_[i].getPassword() == password) {\n",
        "      cout << \"<Login successful!> Hello, \" << person_[i].getUsername()  << endl;\n",
        "      return true;\n",
        "    }\n",
        "  }\n",
        "  cout << \"<Login failed!> Invalid username or password.\" << endl;\n",
        "  return false;\n",
        "}\n",
        "\n",
        "bool Database::registerUser(string username, string password) {\n",
        "  if (userCount_ >= MAX_USERS) {\n",
        "    cout << \"<Registration failed!> Maximum number of users reached.\" << endl;\n",
        "    return false;\n",
        "  }\n",
        "\n",
        "  for (int i = 0; i < userCount_; i++) {\n",
        "    if (person_[i].getUsername() == username) {\n",
        "      cout << \"<Registration failed!> Username already exists.\" << endl;\n",
        "      return false;\n",
        "    }\n",
        "  }\n",
        "\n",
        "  person_[userCount_] = Person(username, password);\n",
        "  userCount_++;\n",
        "  cout << \"<Registration successful!> Welcome, \" << username << endl;\n",
        "  return true;\n",
        "}"
      ],
      "metadata": {
        "id": "eBKJAfvuW2dh",
        "colab": {
          "base_uri": "https://localhost:8080/"
        },
        "outputId": "17113e38-d879-4ec7-e80a-5a2c58434f59"
      },
      "execution_count": 44,
      "outputs": [
        {
          "output_type": "stream",
          "name": "stdout",
          "text": [
            "Overwriting Database.cpp\n"
          ]
        }
      ]
    },
    {
      "cell_type": "code",
      "source": [
        "%%writefile BodyMetric.h"
      ],
      "metadata": {
        "id": "7ai56GSLNoGG",
        "colab": {
          "base_uri": "https://localhost:8080/"
        },
        "outputId": "33df3b29-3833-488d-f156-40f5a608c126"
      },
      "execution_count": 45,
      "outputs": [
        {
          "output_type": "stream",
          "name": "stdout",
          "text": [
            "Overwriting BodyMetric.h\n"
          ]
        }
      ]
    },
    {
      "cell_type": "code",
      "source": [
        "%%writefile main.cpp\n",
        "\n",
        "#include \"Database.h\"\n",
        "#include <iostream>\n",
        "\n",
        "using namespace std;\n",
        "\n",
        "int main(){\n",
        "\n",
        "  const string credfile = \"database.txt\";\n",
        "  Database db(credfile);\n",
        "  db.loadFromFile();\n",
        "\n",
        "  string username, password;\n",
        "  int choice;\n",
        "  do {\n",
        "    cout << \"****************************************\" << endl;\n",
        "    cout << \"***** Welcome to My Health Journal *****\" << endl;\n",
        "    cout << \"Menu: \" << endl;\n",
        "    cout << \"[1] Login\" << endl;\n",
        "    cout << \"[2] Register\" << endl;\n",
        "    cout << \"[3] Exit\" << endl;\n",
        "    cout << \"Enter your choice: \";\n",
        "    cin >> choice;\n",
        "    cout << endl;\n",
        "\n",
        "    switch (choice) {\n",
        "      case 1:\n",
        "        cout << \"Enter username: \";\n",
        "        cin >> username;\n",
        "        cout << \"Enter password: \";\n",
        "        cin >> password;\n",
        "        db.login(username, password);\n",
        "        break;\n",
        "      case 2:\n",
        "        cout << \"Enter username: \";\n",
        "        cin >> username;\n",
        "        cout << \"Enter password: \";\n",
        "        cin >> password;\n",
        "        db.registerUser(username, password);\n",
        "        break;\n",
        "      case 3:\n",
        "        cout << \"Thanks for visiting!\" << endl;\n",
        "        break;\n",
        "      default:\n",
        "        cout << \"Invalid choice\" << endl;\n",
        "    }\n",
        "  } while (choice != 3);\n",
        "\n",
        "  cout << \"Part 2 \" << endl;\n",
        "  db.saveToFile();\n",
        "\n",
        "  return 0;\n",
        "}"
      ],
      "metadata": {
        "id": "zZOde14KNqAk",
        "colab": {
          "base_uri": "https://localhost:8080/"
        },
        "outputId": "ed2e8a61-bc99-466f-f478-07ec756748cd"
      },
      "execution_count": 46,
      "outputs": [
        {
          "output_type": "stream",
          "name": "stdout",
          "text": [
            "Overwriting main.cpp\n"
          ]
        }
      ]
    },
    {
      "cell_type": "code",
      "source": [
        "%%shell\n",
        "g++ Person.cpp Database.cpp main.cpp -o HealthJournal.elf\n",
        "./HealthJournal.elf"
      ],
      "metadata": {
        "colab": {
          "base_uri": "https://localhost:8080/"
        },
        "id": "LZMLmRaoLE36",
        "outputId": "7079fe36-9117-4d0d-8e7b-3b7906aa00b0"
      },
      "execution_count": 47,
      "outputs": [
        {
          "output_type": "stream",
          "name": "stdout",
          "text": [
            "****************************************\n",
            "***** Welcome to My Health Journal *****\n",
            "Menu: \n",
            "[1] Login\n",
            "[2] Register\n",
            "[3] Exit\n",
            "Enter your choice: 2\n",
            "\n",
            "Enter username: Soon\n",
            "Enter password: password\n",
            "<Registration successful!> Welcome, Soon\n",
            "****************************************\n",
            "***** Welcome to My Health Journal *****\n",
            "Menu: \n",
            "[1] Login\n",
            "[2] Register\n",
            "[3] Exit\n",
            "Enter your choice: 1\n",
            "\n",
            "Enter username: Soon\n",
            "Enter password: password\n",
            "<Login successful!> Hello, Soon\n",
            "****************************************\n",
            "***** Welcome to My Health Journal *****\n",
            "Menu: \n",
            "[1] Login\n",
            "[2] Register\n",
            "[3] Exit\n",
            "Enter your choice: 3\n",
            "\n",
            "Thanks for visiting!\n",
            "Part 2 \n"
          ]
        },
        {
          "output_type": "execute_result",
          "data": {
            "text/plain": []
          },
          "metadata": {},
          "execution_count": 47
        }
      ]
    },
    {
      "cell_type": "code",
      "source": [
        "import os\n",
        "with open(\"database.txt\",\"r\") as file:\n",
        "    print(file.read())"
      ],
      "metadata": {
        "colab": {
          "base_uri": "https://localhost:8080/"
        },
        "id": "FMUKfniWpAiO",
        "outputId": "a9bca853-9156-4e50-8b0d-6a8bbb6a5e16"
      },
      "execution_count": 48,
      "outputs": [
        {
          "output_type": "stream",
          "name": "stdout",
          "text": [
            "Alice Password123\n",
            "Bob Password456\n",
            "Charlie Password789\n",
            "Diana Password101\n",
            "Ethan Password202\n",
            "Fiona Password303\n",
            "George Password404\n",
            "Hannah Password505\n",
            "Ian Password606\n",
            "Jenna Password707\n",
            "Soon password\n",
            "\n"
          ]
        }
      ]
    },
    {
      "cell_type": "markdown",
      "source": [
        "##Example Output 1:\n",
        "Scenario 1: Checking a specific user information, followed by recording new info and recalculate suggested work out plan."
      ],
      "metadata": {
        "id": "q9sewWJNNuu6"
      }
    }
  ]
}